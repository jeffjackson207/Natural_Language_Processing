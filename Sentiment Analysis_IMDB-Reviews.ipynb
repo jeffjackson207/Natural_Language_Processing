{
 "cells": [
  {
   "metadata": {},
   "cell_type": "markdown",
   "source": [
    "## Sentiment Analysis\n",
    "\n",
    "This IMDB dataset has 50,000 movie reviews for Natural Language Processing or Text Analytics.\n",
    "This is a dataset for binary sentiment classification containing substantially more data than previous benchmark datasets. Provided is a set of 25,000 highly polar movie reviews for training and 25,000 for testing. The objective is to predict the number of positive and negative reviews using either classification or deep learning algorithms."
   ],
   "id": "49281fd3b256a39"
  },
  {
   "metadata": {
    "ExecuteTime": {
     "end_time": "2025-09-09T00:29:12.646166Z",
     "start_time": "2025-09-09T00:28:55.920849Z"
    }
   },
   "cell_type": "code",
   "source": [
    "import numpy as np\n",
    "import pandas as pd"
   ],
   "id": "34129069f1124dd",
   "outputs": [],
   "execution_count": 1
  },
  {
   "metadata": {
    "ExecuteTime": {
     "end_time": "2025-09-09T01:01:48.807508Z",
     "start_time": "2025-09-09T01:01:48.097131Z"
    }
   },
   "cell_type": "code",
   "source": [
    "data = pd.read_csv(\"data/IMDB Dataset.csv\")\n",
    "data.head() #shows the first 5 rows of the dataset."
   ],
   "id": "1514a29ae2a36d2b",
   "outputs": [
    {
     "data": {
      "text/plain": [
       "                                              review sentiment\n",
       "0  One of the other reviewers has mentioned that ...  positive\n",
       "1  A wonderful little production. <br /><br />The...  positive\n",
       "2  I thought this was a wonderful way to spend ti...  positive\n",
       "3  Basically there's a family where a little boy ...  negative\n",
       "4  Petter Mattei's \"Love in the Time of Money\" is...  positive"
      ],
      "text/html": [
       "<div>\n",
       "<style scoped>\n",
       "    .dataframe tbody tr th:only-of-type {\n",
       "        vertical-align: middle;\n",
       "    }\n",
       "\n",
       "    .dataframe tbody tr th {\n",
       "        vertical-align: top;\n",
       "    }\n",
       "\n",
       "    .dataframe thead th {\n",
       "        text-align: right;\n",
       "    }\n",
       "</style>\n",
       "<table border=\"1\" class=\"dataframe\">\n",
       "  <thead>\n",
       "    <tr style=\"text-align: right;\">\n",
       "      <th></th>\n",
       "      <th>review</th>\n",
       "      <th>sentiment</th>\n",
       "    </tr>\n",
       "  </thead>\n",
       "  <tbody>\n",
       "    <tr>\n",
       "      <th>0</th>\n",
       "      <td>One of the other reviewers has mentioned that ...</td>\n",
       "      <td>positive</td>\n",
       "    </tr>\n",
       "    <tr>\n",
       "      <th>1</th>\n",
       "      <td>A wonderful little production. &lt;br /&gt;&lt;br /&gt;The...</td>\n",
       "      <td>positive</td>\n",
       "    </tr>\n",
       "    <tr>\n",
       "      <th>2</th>\n",
       "      <td>I thought this was a wonderful way to spend ti...</td>\n",
       "      <td>positive</td>\n",
       "    </tr>\n",
       "    <tr>\n",
       "      <th>3</th>\n",
       "      <td>Basically there's a family where a little boy ...</td>\n",
       "      <td>negative</td>\n",
       "    </tr>\n",
       "    <tr>\n",
       "      <th>4</th>\n",
       "      <td>Petter Mattei's \"Love in the Time of Money\" is...</td>\n",
       "      <td>positive</td>\n",
       "    </tr>\n",
       "  </tbody>\n",
       "</table>\n",
       "</div>"
      ]
     },
     "execution_count": 23,
     "metadata": {},
     "output_type": "execute_result"
    }
   ],
   "execution_count": 23
  },
  {
   "metadata": {
    "ExecuteTime": {
     "end_time": "2025-09-10T00:39:38.970116Z",
     "start_time": "2025-09-10T00:39:38.960117Z"
    }
   },
   "cell_type": "code",
   "source": "data.tail() #shows the last 5 rows of the dataset.",
   "id": "31edfe95ea15f2d8",
   "outputs": [
    {
     "data": {
      "text/plain": [
       "                                                  review sentiment\n",
       "49995  i thought thi movi did a down right good job. ...  positive\n",
       "49996  bad plot, bad dialogue, bad acting, idiot dire...  negative\n",
       "49997  i am a cathol taught in parochi elementari sch...  negative\n",
       "49998  i'm go to have to disagre with the previou com...  negative\n",
       "49999  no one expect the star trek movi to be high ar...  negative"
      ],
      "text/html": [
       "<div>\n",
       "<style scoped>\n",
       "    .dataframe tbody tr th:only-of-type {\n",
       "        vertical-align: middle;\n",
       "    }\n",
       "\n",
       "    .dataframe tbody tr th {\n",
       "        vertical-align: top;\n",
       "    }\n",
       "\n",
       "    .dataframe thead th {\n",
       "        text-align: right;\n",
       "    }\n",
       "</style>\n",
       "<table border=\"1\" class=\"dataframe\">\n",
       "  <thead>\n",
       "    <tr style=\"text-align: right;\">\n",
       "      <th></th>\n",
       "      <th>review</th>\n",
       "      <th>sentiment</th>\n",
       "    </tr>\n",
       "  </thead>\n",
       "  <tbody>\n",
       "    <tr>\n",
       "      <th>49995</th>\n",
       "      <td>i thought thi movi did a down right good job. ...</td>\n",
       "      <td>positive</td>\n",
       "    </tr>\n",
       "    <tr>\n",
       "      <th>49996</th>\n",
       "      <td>bad plot, bad dialogue, bad acting, idiot dire...</td>\n",
       "      <td>negative</td>\n",
       "    </tr>\n",
       "    <tr>\n",
       "      <th>49997</th>\n",
       "      <td>i am a cathol taught in parochi elementari sch...</td>\n",
       "      <td>negative</td>\n",
       "    </tr>\n",
       "    <tr>\n",
       "      <th>49998</th>\n",
       "      <td>i'm go to have to disagre with the previou com...</td>\n",
       "      <td>negative</td>\n",
       "    </tr>\n",
       "    <tr>\n",
       "      <th>49999</th>\n",
       "      <td>no one expect the star trek movi to be high ar...</td>\n",
       "      <td>negative</td>\n",
       "    </tr>\n",
       "  </tbody>\n",
       "</table>\n",
       "</div>"
      ]
     },
     "execution_count": 63,
     "metadata": {},
     "output_type": "execute_result"
    }
   ],
   "execution_count": 63
  },
  {
   "metadata": {
    "ExecuteTime": {
     "end_time": "2025-09-09T00:42:50.387712Z",
     "start_time": "2025-09-09T00:42:50.378215Z"
    }
   },
   "cell_type": "code",
   "source": "data.columns #shows the types of columns in the dataset.",
   "id": "f8f27bb2f65d7cb3",
   "outputs": [
    {
     "data": {
      "text/plain": [
       "Index(['review', 'sentiment'], dtype='object')"
      ]
     },
     "execution_count": 12,
     "metadata": {},
     "output_type": "execute_result"
    }
   ],
   "execution_count": 12
  },
  {
   "metadata": {
    "ExecuteTime": {
     "end_time": "2025-09-09T00:43:44.425006Z",
     "start_time": "2025-09-09T00:43:44.409504Z"
    }
   },
   "cell_type": "code",
   "source": "data.shape #shows the number of rows and columns in the dataset",
   "id": "876e0e64eef158e8",
   "outputs": [
    {
     "data": {
      "text/plain": [
       "(50000, 2)"
      ]
     },
     "execution_count": 14,
     "metadata": {},
     "output_type": "execute_result"
    }
   ],
   "execution_count": 14
  },
  {
   "metadata": {
    "ExecuteTime": {
     "end_time": "2025-09-09T00:44:09.987511Z",
     "start_time": "2025-09-09T00:44:09.908079Z"
    }
   },
   "cell_type": "code",
   "source": "data.isnull().any() #checking for null values. If you have any null values, try to replace them.",
   "id": "26392ec34cbdafea",
   "outputs": [
    {
     "data": {
      "text/plain": [
       "review       False\n",
       "sentiment    False\n",
       "dtype: bool"
      ]
     },
     "execution_count": 15,
     "metadata": {},
     "output_type": "execute_result"
    }
   ],
   "execution_count": 15
  },
  {
   "metadata": {
    "ExecuteTime": {
     "end_time": "2025-09-09T00:46:09.479596Z",
     "start_time": "2025-09-09T00:46:09.421593Z"
    }
   },
   "cell_type": "code",
   "source": "data.isnull().sum() #Another way for checking the amount of null values in the dataset.",
   "id": "139417374e6766d",
   "outputs": [
    {
     "data": {
      "text/plain": [
       "review       0\n",
       "sentiment    0\n",
       "dtype: int64"
      ]
     },
     "execution_count": 18,
     "metadata": {},
     "output_type": "execute_result"
    }
   ],
   "execution_count": 18
  },
  {
   "metadata": {
    "ExecuteTime": {
     "end_time": "2025-09-09T00:44:55.986767Z",
     "start_time": "2025-09-09T00:44:55.836905Z"
    }
   },
   "cell_type": "code",
   "outputs": [
    {
     "data": {
      "text/plain": [
       "                                                   review sentiment\n",
       "count                                               50000     50000\n",
       "unique                                              49582         2\n",
       "top     Loved today's show!!! It was a variety and not...  positive\n",
       "freq                                                    5     25000"
      ],
      "text/html": [
       "<div>\n",
       "<style scoped>\n",
       "    .dataframe tbody tr th:only-of-type {\n",
       "        vertical-align: middle;\n",
       "    }\n",
       "\n",
       "    .dataframe tbody tr th {\n",
       "        vertical-align: top;\n",
       "    }\n",
       "\n",
       "    .dataframe thead th {\n",
       "        text-align: right;\n",
       "    }\n",
       "</style>\n",
       "<table border=\"1\" class=\"dataframe\">\n",
       "  <thead>\n",
       "    <tr style=\"text-align: right;\">\n",
       "      <th></th>\n",
       "      <th>review</th>\n",
       "      <th>sentiment</th>\n",
       "    </tr>\n",
       "  </thead>\n",
       "  <tbody>\n",
       "    <tr>\n",
       "      <th>count</th>\n",
       "      <td>50000</td>\n",
       "      <td>50000</td>\n",
       "    </tr>\n",
       "    <tr>\n",
       "      <th>unique</th>\n",
       "      <td>49582</td>\n",
       "      <td>2</td>\n",
       "    </tr>\n",
       "    <tr>\n",
       "      <th>top</th>\n",
       "      <td>Loved today's show!!! It was a variety and not...</td>\n",
       "      <td>positive</td>\n",
       "    </tr>\n",
       "    <tr>\n",
       "      <th>freq</th>\n",
       "      <td>5</td>\n",
       "      <td>25000</td>\n",
       "    </tr>\n",
       "  </tbody>\n",
       "</table>\n",
       "</div>"
      ]
     },
     "execution_count": 17,
     "metadata": {},
     "output_type": "execute_result"
    }
   ],
   "execution_count": 17,
   "source": "data.describe() #shows the summary statistics of the dataset",
   "id": "c90f05a45cca7056"
  },
  {
   "metadata": {
    "ExecuteTime": {
     "end_time": "2025-09-10T00:39:33.387589Z",
     "start_time": "2025-09-10T00:39:33.380238Z"
    }
   },
   "cell_type": "code",
   "source": "data['sentiment'].value_counts()",
   "id": "f5b652382aebd32d",
   "outputs": [
    {
     "data": {
      "text/plain": [
       "sentiment\n",
       "positive    25000\n",
       "negative    25000\n",
       "Name: count, dtype: int64"
      ]
     },
     "execution_count": 60,
     "metadata": {},
     "output_type": "execute_result"
    }
   ],
   "execution_count": 60
  },
  {
   "metadata": {},
   "cell_type": "markdown",
   "source": "# Text Normalization",
   "id": "58445f9a80cb3dd1"
  },
  {
   "metadata": {},
   "cell_type": "markdown",
   "source": "### Tokenization",
   "id": "e72a42487a0a5b68"
  },
  {
   "metadata": {
    "ExecuteTime": {
     "end_time": "2025-09-10T00:39:37.330244Z",
     "start_time": "2025-09-10T00:39:37.324771Z"
    }
   },
   "cell_type": "code",
   "source": [
    "# Visualization and utilities\n",
    "import seaborn as sns\n",
    "import matplotlib.pyplot as plt\n",
    "\n",
    "# NLP\n",
    "import nltk\n",
    "from nltk.corpus import stopwords\n",
    "from nltk.stem import PorterStemmer, WordNetLemmatizer\n",
    "from nltk.tokenize import word_tokenize, sent_tokenize\n",
    "from nltk.tokenize.toktok import ToktokTokenizer\n",
    "\n",
    "# Feature extraction (fixed module name)\n",
    "from sklearn.feature_extraction.text import CountVectorizer, TfidfVectorizer\n",
    "\n",
    "from sklearn.preprocessing import LabelBinarizer\n",
    "from wordcloud import WordCloud, STOPWORDS\n",
    "\n",
    "# Models & metrics\n",
    "from sklearn.linear_model import LogisticRegression, SGDClassifier\n",
    "from sklearn.naive_bayes import MultinomialNB\n",
    "from sklearn.svm import SVC\n",
    "from sklearn.metrics import classification_report, confusion_matrix, accuracy_score\n",
    "\n",
    "# Other\n",
    "import spacy\n",
    "import re, string, unicodedata\n",
    "from bs4 import BeautifulSoup\n",
    "from textblob import TextBlob, Word"
   ],
   "id": "f2d431d086be3b0",
   "outputs": [],
   "execution_count": 62
  },
  {
   "metadata": {
    "ExecuteTime": {
     "end_time": "2025-09-10T00:12:07.364233Z",
     "start_time": "2025-09-10T00:12:06.486155Z"
    }
   },
   "cell_type": "code",
   "source": [
    "import nltk\n",
    "nltk.download('stopwords')\n",
    "nltk.download('punkt')\n",
    "nltk.download('wordnet')\n",
    "nltk.download('omw-1.4')  # wordnet lemmatizer lexicon"
   ],
   "id": "f97552fd08565dd9",
   "outputs": [
    {
     "name": "stderr",
     "output_type": "stream",
     "text": [
      "[nltk_data] Downloading package stopwords to\n",
      "[nltk_data]     /Users/jeffreyjackson/nltk_data...\n",
      "[nltk_data]   Package stopwords is already up-to-date!\n",
      "[nltk_data] Downloading package punkt to\n",
      "[nltk_data]     /Users/jeffreyjackson/nltk_data...\n",
      "[nltk_data]   Package punkt is already up-to-date!\n",
      "[nltk_data] Downloading package wordnet to\n",
      "[nltk_data]     /Users/jeffreyjackson/nltk_data...\n",
      "[nltk_data]   Package wordnet is already up-to-date!\n",
      "[nltk_data] Downloading package omw-1.4 to\n",
      "[nltk_data]     /Users/jeffreyjackson/nltk_data...\n",
      "[nltk_data]   Package omw-1.4 is already up-to-date!\n"
     ]
    },
    {
     "data": {
      "text/plain": [
       "True"
      ]
     },
     "execution_count": 37,
     "metadata": {},
     "output_type": "execute_result"
    }
   ],
   "execution_count": 37
  },
  {
   "metadata": {
    "ExecuteTime": {
     "end_time": "2025-09-10T00:12:30.749654Z",
     "start_time": "2025-09-10T00:12:30.728621Z"
    }
   },
   "cell_type": "code",
   "source": [
    "#Tokenization of text\n",
    "tokenizer = ToktokTokenizer()\n",
    "#setting English stopwords\n",
    "stopwords = nltk.corpus.stopwords.words('english')"
   ],
   "id": "6da3befba83d649f",
   "outputs": [],
   "execution_count": 38
  },
  {
   "metadata": {
    "ExecuteTime": {
     "end_time": "2025-09-10T00:17:54.633986Z",
     "start_time": "2025-09-10T00:17:54.595372Z"
    }
   },
   "cell_type": "code",
   "source": [
    "# Removing the noisy text\n",
    "# BeautifulSoup is used to remove the html tags from the text\n",
    "def noiseremoval_text(text):\n",
    "    soup = BeautifulSoup(text, 'html.parser')\n",
    "    text = soup.get_text()\n",
    "    text = re.sub('\\[[^]]*\\]', '', text)\n",
    "    return text"
   ],
   "id": "99dbceeb26ab5940",
   "outputs": [],
   "execution_count": 39
  },
  {
   "metadata": {
    "ExecuteTime": {
     "end_time": "2025-09-10T00:20:49.389993Z",
     "start_time": "2025-09-10T00:20:44.533879Z"
    }
   },
   "cell_type": "code",
   "source": [
    "# Apply function on review column\n",
    "data['review'] = data['review'].apply(noiseremoval_text)"
   ],
   "id": "1af70e990c2f7f73",
   "outputs": [],
   "execution_count": 40
  },
  {
   "metadata": {
    "ExecuteTime": {
     "end_time": "2025-09-10T00:20:59.386777Z",
     "start_time": "2025-09-10T00:20:59.348240Z"
    }
   },
   "cell_type": "code",
   "source": "data.head()",
   "id": "cc031e65b51f737a",
   "outputs": [
    {
     "data": {
      "text/plain": [
       "                                              review sentiment\n",
       "0  One of the other reviewers has mentioned that ...  positive\n",
       "1  A wonderful little production. The filming tec...  positive\n",
       "2  I thought this was a wonderful way to spend ti...  positive\n",
       "3  Basically there's a family where a little boy ...  negative\n",
       "4  Petter Mattei's \"Love in the Time of Money\" is...  positive"
      ],
      "text/html": [
       "<div>\n",
       "<style scoped>\n",
       "    .dataframe tbody tr th:only-of-type {\n",
       "        vertical-align: middle;\n",
       "    }\n",
       "\n",
       "    .dataframe tbody tr th {\n",
       "        vertical-align: top;\n",
       "    }\n",
       "\n",
       "    .dataframe thead th {\n",
       "        text-align: right;\n",
       "    }\n",
       "</style>\n",
       "<table border=\"1\" class=\"dataframe\">\n",
       "  <thead>\n",
       "    <tr style=\"text-align: right;\">\n",
       "      <th></th>\n",
       "      <th>review</th>\n",
       "      <th>sentiment</th>\n",
       "    </tr>\n",
       "  </thead>\n",
       "  <tbody>\n",
       "    <tr>\n",
       "      <th>0</th>\n",
       "      <td>One of the other reviewers has mentioned that ...</td>\n",
       "      <td>positive</td>\n",
       "    </tr>\n",
       "    <tr>\n",
       "      <th>1</th>\n",
       "      <td>A wonderful little production. The filming tec...</td>\n",
       "      <td>positive</td>\n",
       "    </tr>\n",
       "    <tr>\n",
       "      <th>2</th>\n",
       "      <td>I thought this was a wonderful way to spend ti...</td>\n",
       "      <td>positive</td>\n",
       "    </tr>\n",
       "    <tr>\n",
       "      <th>3</th>\n",
       "      <td>Basically there's a family where a little boy ...</td>\n",
       "      <td>negative</td>\n",
       "    </tr>\n",
       "    <tr>\n",
       "      <th>4</th>\n",
       "      <td>Petter Mattei's \"Love in the Time of Money\" is...</td>\n",
       "      <td>positive</td>\n",
       "    </tr>\n",
       "  </tbody>\n",
       "</table>\n",
       "</div>"
      ]
     },
     "execution_count": 41,
     "metadata": {},
     "output_type": "execute_result"
    }
   ],
   "execution_count": 41
  },
  {
   "metadata": {},
   "cell_type": "markdown",
   "source": "# Stemming",
   "id": "9b345008b4dfbb1b"
  },
  {
   "metadata": {
    "ExecuteTime": {
     "end_time": "2025-09-10T00:22:43.526483Z",
     "start_time": "2025-09-10T00:22:43.514837Z"
    }
   },
   "cell_type": "code",
   "source": [
    "# Stemming the text\n",
    "# Stemming is the process of reducing a word to its base or root form.\n",
    "def stemmer(text):\n",
    "    ps = nltk.porter.PorterStemmer()\n",
    "    text = ' '.join([ps.stem(word) for word in text.split()])\n",
    "    return text"
   ],
   "id": "fb127aa3be21bda8",
   "outputs": [],
   "execution_count": 42
  },
  {
   "metadata": {
    "ExecuteTime": {
     "end_time": "2025-09-10T00:25:07.717146Z",
     "start_time": "2025-09-10T00:23:09.621210Z"
    }
   },
   "cell_type": "code",
   "source": [
    "# Apply function on review column\n",
    "data['review'] = data['review'].apply(stemmer)"
   ],
   "id": "e796e3e360fe06f3",
   "outputs": [],
   "execution_count": 43
  },
  {
   "metadata": {
    "ExecuteTime": {
     "end_time": "2025-09-10T00:25:17.971018Z",
     "start_time": "2025-09-10T00:25:17.955799Z"
    }
   },
   "cell_type": "code",
   "source": "data.head()",
   "id": "6cdd644e1205ded5",
   "outputs": [
    {
     "data": {
      "text/plain": [
       "                                              review sentiment\n",
       "0  one of the other review ha mention that after ...  positive\n",
       "1  a wonder littl production. the film techniqu i...  positive\n",
       "2  i thought thi wa a wonder way to spend time on...  positive\n",
       "3  basic there' a famili where a littl boy (jake)...  negative\n",
       "4  petter mattei' \"love in the time of money\" is ...  positive"
      ],
      "text/html": [
       "<div>\n",
       "<style scoped>\n",
       "    .dataframe tbody tr th:only-of-type {\n",
       "        vertical-align: middle;\n",
       "    }\n",
       "\n",
       "    .dataframe tbody tr th {\n",
       "        vertical-align: top;\n",
       "    }\n",
       "\n",
       "    .dataframe thead th {\n",
       "        text-align: right;\n",
       "    }\n",
       "</style>\n",
       "<table border=\"1\" class=\"dataframe\">\n",
       "  <thead>\n",
       "    <tr style=\"text-align: right;\">\n",
       "      <th></th>\n",
       "      <th>review</th>\n",
       "      <th>sentiment</th>\n",
       "    </tr>\n",
       "  </thead>\n",
       "  <tbody>\n",
       "    <tr>\n",
       "      <th>0</th>\n",
       "      <td>one of the other review ha mention that after ...</td>\n",
       "      <td>positive</td>\n",
       "    </tr>\n",
       "    <tr>\n",
       "      <th>1</th>\n",
       "      <td>a wonder littl production. the film techniqu i...</td>\n",
       "      <td>positive</td>\n",
       "    </tr>\n",
       "    <tr>\n",
       "      <th>2</th>\n",
       "      <td>i thought thi wa a wonder way to spend time on...</td>\n",
       "      <td>positive</td>\n",
       "    </tr>\n",
       "    <tr>\n",
       "      <th>3</th>\n",
       "      <td>basic there' a famili where a littl boy (jake)...</td>\n",
       "      <td>negative</td>\n",
       "    </tr>\n",
       "    <tr>\n",
       "      <th>4</th>\n",
       "      <td>petter mattei' \"love in the time of money\" is ...</td>\n",
       "      <td>positive</td>\n",
       "    </tr>\n",
       "  </tbody>\n",
       "</table>\n",
       "</div>"
      ]
     },
     "execution_count": 44,
     "metadata": {},
     "output_type": "execute_result"
    }
   ],
   "execution_count": 44
  },
  {
   "metadata": {},
   "cell_type": "markdown",
   "source": "# Removing Stop Words",
   "id": "fbd3a4c5e42febee"
  },
  {
   "metadata": {
    "ExecuteTime": {
     "end_time": "2025-09-10T00:40:56.928833Z",
     "start_time": "2025-09-10T00:40:56.919848Z"
    }
   },
   "cell_type": "code",
   "source": [
    "# Prepare a reusable stopword set (fast lookups) without shadowing the module name\n",
    "from nltk.corpus import stopwords as nltk_stopwords\n",
    "import string\n",
    "\n",
    "stop_words = set(nltk_stopwords.words('english'))\n",
    "punct = set(string.punctuation)\n",
    "\n",
    "# Removing the stop words from the text\n",
    "def removing_stopwords(text, is_lower_case=False):\n",
    "    # Ensure text is a string (handles NaN)\n",
    "    text = \"\" if text is None else str(text)\n",
    "\n",
    "    # Tokenization\n",
    "    tokens = tokenizer.tokenize(text)\n",
    "    tokens = [t.strip() for t in tokens if t.strip()]\n",
    "\n",
    "    if is_lower_case:\n",
    "        # Optionally lower-case the tokens first\n",
    "        tokens = [t.lower() for t in tokens]\n",
    "        filtokens = [t for t in tokens if t not in stop_words and t not in punct]\n",
    "    else:\n",
    "        filtokens = [t for t in tokens if t.lower() not in stop_words and t not in punct]\n",
    "\n",
    "    return \" \".join(filtokens)"
   ],
   "id": "ed6277d59dbe54af",
   "outputs": [],
   "execution_count": 67
  },
  {
   "metadata": {
    "ExecuteTime": {
     "end_time": "2025-09-10T00:41:06.768592Z",
     "start_time": "2025-09-10T00:40:58.970458Z"
    }
   },
   "cell_type": "code",
   "source": [
    "# Apply function on review column\n",
    "data['review'] = data['review'].astype(str).apply(removing_stopwords)"
   ],
   "id": "4aa75a787cf46b4d",
   "outputs": [],
   "execution_count": 68
  },
  {
   "metadata": {
    "ExecuteTime": {
     "end_time": "2025-09-10T00:41:16.570376Z",
     "start_time": "2025-09-10T00:41:16.558971Z"
    }
   },
   "cell_type": "code",
   "source": "data.head()",
   "id": "bd8e99ddba9bfec8",
   "outputs": [
    {
     "data": {
      "text/plain": [
       "                                              review sentiment\n",
       "0  one review ha mention watch 1 oz episod hooked...  positive\n",
       "1  wonder littl production. film techniqu veri un...  positive\n",
       "2  thought thi wa wonder way spend time hot summe...  positive\n",
       "3  basic famili littl boy jake think zombi hi clo...  negative\n",
       "4  petter mattei love time money visual stun film...  positive"
      ],
      "text/html": [
       "<div>\n",
       "<style scoped>\n",
       "    .dataframe tbody tr th:only-of-type {\n",
       "        vertical-align: middle;\n",
       "    }\n",
       "\n",
       "    .dataframe tbody tr th {\n",
       "        vertical-align: top;\n",
       "    }\n",
       "\n",
       "    .dataframe thead th {\n",
       "        text-align: right;\n",
       "    }\n",
       "</style>\n",
       "<table border=\"1\" class=\"dataframe\">\n",
       "  <thead>\n",
       "    <tr style=\"text-align: right;\">\n",
       "      <th></th>\n",
       "      <th>review</th>\n",
       "      <th>sentiment</th>\n",
       "    </tr>\n",
       "  </thead>\n",
       "  <tbody>\n",
       "    <tr>\n",
       "      <th>0</th>\n",
       "      <td>one review ha mention watch 1 oz episod hooked...</td>\n",
       "      <td>positive</td>\n",
       "    </tr>\n",
       "    <tr>\n",
       "      <th>1</th>\n",
       "      <td>wonder littl production. film techniqu veri un...</td>\n",
       "      <td>positive</td>\n",
       "    </tr>\n",
       "    <tr>\n",
       "      <th>2</th>\n",
       "      <td>thought thi wa wonder way spend time hot summe...</td>\n",
       "      <td>positive</td>\n",
       "    </tr>\n",
       "    <tr>\n",
       "      <th>3</th>\n",
       "      <td>basic famili littl boy jake think zombi hi clo...</td>\n",
       "      <td>negative</td>\n",
       "    </tr>\n",
       "    <tr>\n",
       "      <th>4</th>\n",
       "      <td>petter mattei love time money visual stun film...</td>\n",
       "      <td>positive</td>\n",
       "    </tr>\n",
       "  </tbody>\n",
       "</table>\n",
       "</div>"
      ]
     },
     "execution_count": 69,
     "metadata": {},
     "output_type": "execute_result"
    }
   ],
   "execution_count": 69
  },
  {
   "metadata": {},
   "cell_type": "markdown",
   "source": "# Train Test Split",
   "id": "c48de925e47d3c57"
  },
  {
   "metadata": {
    "ExecuteTime": {
     "end_time": "2025-09-10T00:43:58.565197Z",
     "start_time": "2025-09-10T00:43:58.554345Z"
    }
   },
   "cell_type": "code",
   "source": [
    "# Split the dataset\n",
    "# Train dataset\n",
    "train_reviews_data = data.review[:30000]"
   ],
   "id": "1eb24b6eb682f15b",
   "outputs": [],
   "execution_count": 70
  },
  {
   "metadata": {
    "ExecuteTime": {
     "end_time": "2025-09-10T00:44:30.932134Z",
     "start_time": "2025-09-10T00:44:30.911159Z"
    }
   },
   "cell_type": "code",
   "source": [
    "# Test dataset\n",
    "test_reviews_data = data.review[30000:]"
   ],
   "id": "81285f12b95c3367",
   "outputs": [],
   "execution_count": 71
  },
  {
   "metadata": {},
   "cell_type": "markdown",
   "source": "# Bag of Words",
   "id": "c5e085f2328bc6ad"
  },
  {
   "metadata": {
    "ExecuteTime": {
     "end_time": "2025-09-10T00:49:40.941362Z",
     "start_time": "2025-09-10T00:49:05.230839Z"
    }
   },
   "cell_type": "code",
   "source": [
    "# Count vectorizer for bag of words\n",
    "cv=CountVectorizer(min_df = 0.0, max_df = 1, binary = False, ngram_range = (1,3))\n",
    "# Transformed trained reviews\n",
    "cv_train = cv.fit_transform(train_reviews_data)\n",
    "# Transformed test reviews\n",
    "cv_test = cv.transform(test_reviews_data)\n",
    "\n",
    "print('BOW_cv_train:', cv_train.shape)\n",
    "print('BOW_cv_test:', cv_test.shape)\n"
   ],
   "id": "7eb6235b901e3898",
   "outputs": [
    {
     "name": "stdout",
     "output_type": "stream",
     "text": [
      "BOW_cv_train: (30000, 4954204)\n",
      "BOW_cv_test: (20000, 4954204)\n"
     ]
    }
   ],
   "execution_count": 73
  },
  {
   "metadata": {},
   "cell_type": "markdown",
   "source": "# TF_IDF",
   "id": "ff6ca1efdfa3aa69"
  },
  {
   "metadata": {
    "ExecuteTime": {
     "end_time": "2025-09-10T00:53:04.349025Z",
     "start_time": "2025-09-10T00:52:21.580910Z"
    }
   },
   "cell_type": "code",
   "source": [
    "# TF_IDF vectorizer for bag of words\n",
    "tf = TfidfVectorizer(min_df = 0.0, max_df = 1, binary = True, ngram_range = (1,3))\n",
    "# Transformed trained reviews\n",
    "tf_train = tf.fit_transform(train_reviews_data)\n",
    "# Transformed test reviews\n",
    "tf_test = tf.transform(test_reviews_data)\n",
    "\n",
    "print('Tfidf_train:', tf_train.shape)\n",
    "print('Tfidf_test:', tf_test.shape)"
   ],
   "id": "bacd892860f2ca01",
   "outputs": [
    {
     "name": "stdout",
     "output_type": "stream",
     "text": [
      "Tfidf_train: (30000, 4954204)\n",
      "Tfidf_test: (20000, 4954204)\n"
     ]
    }
   ],
   "execution_count": 74
  },
  {
   "metadata": {},
   "cell_type": "markdown",
   "source": "# Label Encoding",
   "id": "585b7260b1de97a8"
  },
  {
   "metadata": {
    "ExecuteTime": {
     "end_time": "2025-09-10T00:54:45.757330Z",
     "start_time": "2025-09-10T00:54:45.640893Z"
    }
   },
   "cell_type": "code",
   "source": [
    "# Labeling the sentiment data\n",
    "label = LabelBinarizer()\n",
    "# Transformed sentiment data\n",
    "sentiment_data = label.fit_transform(data['sentiment'])\n",
    "print(sentiment_data.shape)"
   ],
   "id": "2cf2d812d574567c",
   "outputs": [
    {
     "name": "stdout",
     "output_type": "stream",
     "text": [
      "(50000, 1)\n"
     ]
    }
   ],
   "execution_count": 76
  },
  {
   "metadata": {
    "ExecuteTime": {
     "end_time": "2025-09-10T00:55:01.700371Z",
     "start_time": "2025-09-10T00:55:01.686813Z"
    }
   },
   "cell_type": "code",
   "source": "sentiment_data",
   "id": "a5ed498a288414fe",
   "outputs": [
    {
     "data": {
      "text/plain": [
       "array([[1],\n",
       "       [1],\n",
       "       [1],\n",
       "       ...,\n",
       "       [0],\n",
       "       [0],\n",
       "       [0]], shape=(50000, 1))"
      ]
     },
     "execution_count": 77,
     "metadata": {},
     "output_type": "execute_result"
    }
   ],
   "execution_count": 77
  },
  {
   "metadata": {
    "ExecuteTime": {
     "end_time": "2025-09-10T00:55:19.954363Z",
     "start_time": "2025-09-10T00:55:19.943415Z"
    }
   },
   "cell_type": "code",
   "source": "train_data = data.sentiment[:30000]",
   "id": "321f046e98f3b111",
   "outputs": [],
   "execution_count": 78
  },
  {
   "metadata": {
    "ExecuteTime": {
     "end_time": "2025-09-10T00:55:38.684945Z",
     "start_time": "2025-09-10T00:55:38.675866Z"
    }
   },
   "cell_type": "code",
   "source": "test_data = data.sentiment[30000:]",
   "id": "dd876cb7bbaa0162",
   "outputs": [],
   "execution_count": 79
  },
  {
   "metadata": {
    "ExecuteTime": {
     "end_time": "2025-09-10T00:58:29.740105Z",
     "start_time": "2025-09-10T00:58:20.873726Z"
    }
   },
   "cell_type": "code",
   "source": [
    "# Training the model\n",
    "logistic = LogisticRegression(penalty = 'l2', max_iter = 500, C = 1, random_state = 42)\n",
    "lr_bow = logistic.fit(cv_train, train_data)\n",
    "print(lr_bow)"
   ],
   "id": "1477a6bea7ccc291",
   "outputs": [
    {
     "name": "stdout",
     "output_type": "stream",
     "text": [
      "LogisticRegression(C=1, max_iter=500, random_state=42)\n"
     ]
    }
   ],
   "execution_count": 81
  },
  {
   "metadata": {
    "ExecuteTime": {
     "end_time": "2025-09-10T00:59:33.742404Z",
     "start_time": "2025-09-10T00:59:33.703550Z"
    }
   },
   "cell_type": "code",
   "source": [
    "# Predicting the model for bag of words\n",
    "bow_predict = logistic.predict(cv_test)\n",
    "print(bow_predict)"
   ],
   "id": "a0d4109b0b59cbf2",
   "outputs": [
    {
     "name": "stdout",
     "output_type": "stream",
     "text": [
      "['negative' 'negative' 'negative' ... 'negative' 'negative' 'negative']\n"
     ]
    }
   ],
   "execution_count": 82
  },
  {
   "metadata": {
    "ExecuteTime": {
     "end_time": "2025-09-10T01:02:29.245767Z",
     "start_time": "2025-09-10T01:02:29.211922Z"
    }
   },
   "cell_type": "code",
   "source": [
    "# Accuracy score for bag of words\n",
    "bow_score = accuracy_score(test_data, bow_predict)\n",
    "print(\"lr_bow_score: \", bow_score)"
   ],
   "id": "c70d72dc240c6e9f",
   "outputs": [
    {
     "name": "stdout",
     "output_type": "stream",
     "text": [
      "lr_bow_score:  0.6168\n"
     ]
    }
   ],
   "execution_count": 87
  },
  {
   "metadata": {
    "ExecuteTime": {
     "end_time": "2025-09-10T01:02:02.288259Z",
     "start_time": "2025-09-10T01:02:00.300897Z"
    }
   },
   "cell_type": "code",
   "source": [
    "# Fitting the model for tfidf features\n",
    "lr_tfidf = logistic.fit(tf_train, train_data)\n",
    "print(lr_tfidf)"
   ],
   "id": "ead214ff8e18b46e",
   "outputs": [
    {
     "name": "stdout",
     "output_type": "stream",
     "text": [
      "LogisticRegression(C=1, max_iter=500, random_state=42)\n"
     ]
    }
   ],
   "execution_count": 86
  },
  {
   "metadata": {
    "ExecuteTime": {
     "end_time": "2025-09-10T01:03:20.200465Z",
     "start_time": "2025-09-10T01:03:20.146770Z"
    }
   },
   "cell_type": "code",
   "source": [
    "# Predicting the model for tfidf features\n",
    "lr_tfidf_predict = logistic.predict(tf_test)\n",
    "print(lr_tfidf_predict)"
   ],
   "id": "138efb907aa69b66",
   "outputs": [
    {
     "name": "stdout",
     "output_type": "stream",
     "text": [
      "['negative' 'negative' 'positive' ... 'negative' 'positive' 'positive']\n"
     ]
    }
   ],
   "execution_count": 88
  },
  {
   "metadata": {
    "ExecuteTime": {
     "end_time": "2025-09-10T01:04:05.162402Z",
     "start_time": "2025-09-10T01:04:05.121559Z"
    }
   },
   "cell_type": "code",
   "source": [
    "# Accuracy score for tfidf features\n",
    "lr_tfidf_score = accuracy_score(test_data, lr_tfidf_predict)\n",
    "print(\"lr_tfidf_score: \", lr_tfidf_score)\n"
   ],
   "id": "c87000d4458128b",
   "outputs": [
    {
     "name": "stdout",
     "output_type": "stream",
     "text": [
      "lr_tfidf_score:  0.7421\n"
     ]
    }
   ],
   "execution_count": 89
  }
 ],
 "metadata": {
  "kernelspec": {
   "display_name": "Python 3",
   "language": "python",
   "name": "python3"
  },
  "language_info": {
   "codemirror_mode": {
    "name": "ipython",
    "version": 2
   },
   "file_extension": ".py",
   "mimetype": "text/x-python",
   "name": "python",
   "nbconvert_exporter": "python",
   "pygments_lexer": "ipython2",
   "version": "2.7.6"
  }
 },
 "nbformat": 4,
 "nbformat_minor": 5
}

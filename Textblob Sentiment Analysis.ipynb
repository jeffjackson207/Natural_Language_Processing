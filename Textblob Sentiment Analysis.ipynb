{
 "cells": [
  {
   "metadata": {},
   "cell_type": "markdown",
   "source": [
    "Sentiment Analysis using Textblob\n",
    "* Using the IMDB Dataset from Kaggle.com\n",
    "* Sentiment Analysis is a process by which we can find the sentiment of a text. Sentiment can be Positive, Negative or Neutral. The data is analyzed and classified into catagories.\n",
    "* Sentiment Analysis can help us find the mood and emotions of a customer review. It helps with gathering insightful information and context."
   ],
   "id": "e7020b74f507c06d"
  },
  {
   "metadata": {
    "ExecuteTime": {
     "end_time": "2025-09-16T14:16:20.096968Z",
     "start_time": "2025-09-16T14:16:16.151971Z"
    }
   },
   "cell_type": "code",
   "source": [
    "import sys\n",
    "\n",
    "import train\n",
    "!{sys.executable} -m spacy download en_core_web_sm"
   ],
   "id": "947034a746dc0248",
   "outputs": [
    {
     "name": "stdout",
     "output_type": "stream",
     "text": [
      "Collecting en-core-web-sm==3.8.0\r\n",
      "  Downloading https://github.com/explosion/spacy-models/releases/download/en_core_web_sm-3.8.0/en_core_web_sm-3.8.0-py3-none-any.whl (12.8 MB)\r\n",
      "\u001B[2K     \u001B[90m━━━━━━━━━━━━━━━━━━━━━━━━━━━━━━━━━━━━━━━━\u001B[0m \u001B[32m12.8/12.8 MB\u001B[0m \u001B[31m16.2 MB/s\u001B[0m eta \u001B[36m0:00:00\u001B[0ma \u001B[36m0:00:01\u001B[0m\r\n",
      "\u001B[?25hInstalling collected packages: en-core-web-sm\r\n",
      "Successfully installed en-core-web-sm-3.8.0\r\n",
      "\r\n",
      "\u001B[1m[\u001B[0m\u001B[34;49mnotice\u001B[0m\u001B[1;39;49m]\u001B[0m\u001B[39;49m A new release of pip is available: \u001B[0m\u001B[31;49m24.3.1\u001B[0m\u001B[39;49m -> \u001B[0m\u001B[32;49m25.2\u001B[0m\r\n",
      "\u001B[1m[\u001B[0m\u001B[34;49mnotice\u001B[0m\u001B[1;39;49m]\u001B[0m\u001B[39;49m To update, run: \u001B[0m\u001B[32;49mpip install --upgrade pip\u001B[0m\r\n",
      "\u001B[38;5;2m✔ Download and installation successful\u001B[0m\r\n",
      "You can now load the package via spacy.load('en_core_web_sm')\r\n"
     ]
    }
   ],
   "execution_count": 3
  },
  {
   "metadata": {
    "collapsed": true,
    "ExecuteTime": {
     "end_time": "2025-09-16T20:12:15.960882Z",
     "start_time": "2025-09-16T20:12:05.867119Z"
    }
   },
   "cell_type": "code",
   "source": [
    "import pandas as pd\n",
    "from textblob import TextBlob\n",
    "from nltk.tokenize.toktok import ToktokTokenizer\n",
    "import re\n",
    "tokenizer = ToktokTokenizer()\n",
    "import spacy\n",
    "nlp = spacy.load('en_core_web_sm', disable = ['ner'])\n",
    "nlp.max_length = 2_000_000  # or set to train['review'].str.len().max() + 1"
   ],
   "id": "3f87b8adebd4cc5c",
   "outputs": [],
   "execution_count": 2
  },
  {
   "metadata": {
    "ExecuteTime": {
     "end_time": "2025-09-16T20:12:17.936820Z",
     "start_time": "2025-09-16T20:12:17.900368Z"
    }
   },
   "cell_type": "code",
   "source": "TextBlob(\"this is a good app\").sentiment",
   "id": "147c8a07b0e46389",
   "outputs": [
    {
     "data": {
      "text/plain": [
       "Sentiment(polarity=0.7, subjectivity=0.6000000000000001)"
      ]
     },
     "execution_count": 3,
     "metadata": {},
     "output_type": "execute_result"
    }
   ],
   "execution_count": 3
  },
  {
   "metadata": {
    "ExecuteTime": {
     "end_time": "2025-09-16T20:12:18.794254Z",
     "start_time": "2025-09-16T20:12:18.789659Z"
    }
   },
   "cell_type": "code",
   "source": "TextBlob(\"this is not a good app\").sentiment",
   "id": "4ef2d217e099a32",
   "outputs": [
    {
     "data": {
      "text/plain": [
       "Sentiment(polarity=-0.35, subjectivity=0.6000000000000001)"
      ]
     },
     "execution_count": 4,
     "metadata": {},
     "output_type": "execute_result"
    }
   ],
   "execution_count": 4
  },
  {
   "metadata": {
    "ExecuteTime": {
     "end_time": "2025-09-16T20:12:20.173694Z",
     "start_time": "2025-09-16T20:12:20.168962Z"
    }
   },
   "cell_type": "code",
   "source": "TextBlob(\"Everyone says this app is poorly written\").sentiment",
   "id": "a44e2eebae88a0c6",
   "outputs": [
    {
     "data": {
      "text/plain": [
       "Sentiment(polarity=-0.4, subjectivity=0.6)"
      ]
     },
     "execution_count": 5,
     "metadata": {},
     "output_type": "execute_result"
    }
   ],
   "execution_count": 5
  },
  {
   "metadata": {},
   "cell_type": "markdown",
   "source": [
    "### Polarity and Subjectivity\n",
    "* Polarity is a float within the range [-1.0, 1.0] where 0.0 is neutral, and 1.0 is positive.\n",
    "* Polarity gives you what is the sentiment (positive or negative) of the text.\n",
    "* Subjectivity is a float within the range [0.0, 1.0] where 0.0 is very objective and 1.0 is very subjective. Subjectivity defines if the statement is an opinion or not."
   ],
   "id": "fa0d91e65f396ece"
  },
  {
   "metadata": {
    "ExecuteTime": {
     "end_time": "2025-09-16T20:12:22.680134Z",
     "start_time": "2025-09-16T20:12:22.012655Z"
    }
   },
   "cell_type": "code",
   "source": [
    "# Data Loading\n",
    "train = pd.read_csv(\"data/IMDB Dataset_1.csv\")\n",
    "train"
   ],
   "id": "23619b4dde2ec2d2",
   "outputs": [
    {
     "data": {
      "text/plain": [
       "                                                  review  label\n",
       "0      One of the other reviewers has mentioned that ...      1\n",
       "1      A wonderful little production. <br /><br />The...      1\n",
       "2      I thought this was a wonderful way to spend ti...      1\n",
       "3      Basically there's a family where a little boy ...      0\n",
       "4      Petter Mattei's \"Love in the Time of Money\" is...      1\n",
       "...                                                  ...    ...\n",
       "49995  I thought this movie did a down right good job...      1\n",
       "49996  Bad plot, bad dialogue, bad acting, idiotic di...      0\n",
       "49997  I am a Catholic taught in parochial elementary...      0\n",
       "49998  I'm going to have to disagree with the previou...      0\n",
       "49999  No one expects the Star Trek movies to be high...      0\n",
       "\n",
       "[50000 rows x 2 columns]"
      ],
      "text/html": [
       "<div>\n",
       "<style scoped>\n",
       "    .dataframe tbody tr th:only-of-type {\n",
       "        vertical-align: middle;\n",
       "    }\n",
       "\n",
       "    .dataframe tbody tr th {\n",
       "        vertical-align: top;\n",
       "    }\n",
       "\n",
       "    .dataframe thead th {\n",
       "        text-align: right;\n",
       "    }\n",
       "</style>\n",
       "<table border=\"1\" class=\"dataframe\">\n",
       "  <thead>\n",
       "    <tr style=\"text-align: right;\">\n",
       "      <th></th>\n",
       "      <th>review</th>\n",
       "      <th>label</th>\n",
       "    </tr>\n",
       "  </thead>\n",
       "  <tbody>\n",
       "    <tr>\n",
       "      <th>0</th>\n",
       "      <td>One of the other reviewers has mentioned that ...</td>\n",
       "      <td>1</td>\n",
       "    </tr>\n",
       "    <tr>\n",
       "      <th>1</th>\n",
       "      <td>A wonderful little production. &lt;br /&gt;&lt;br /&gt;The...</td>\n",
       "      <td>1</td>\n",
       "    </tr>\n",
       "    <tr>\n",
       "      <th>2</th>\n",
       "      <td>I thought this was a wonderful way to spend ti...</td>\n",
       "      <td>1</td>\n",
       "    </tr>\n",
       "    <tr>\n",
       "      <th>3</th>\n",
       "      <td>Basically there's a family where a little boy ...</td>\n",
       "      <td>0</td>\n",
       "    </tr>\n",
       "    <tr>\n",
       "      <th>4</th>\n",
       "      <td>Petter Mattei's \"Love in the Time of Money\" is...</td>\n",
       "      <td>1</td>\n",
       "    </tr>\n",
       "    <tr>\n",
       "      <th>...</th>\n",
       "      <td>...</td>\n",
       "      <td>...</td>\n",
       "    </tr>\n",
       "    <tr>\n",
       "      <th>49995</th>\n",
       "      <td>I thought this movie did a down right good job...</td>\n",
       "      <td>1</td>\n",
       "    </tr>\n",
       "    <tr>\n",
       "      <th>49996</th>\n",
       "      <td>Bad plot, bad dialogue, bad acting, idiotic di...</td>\n",
       "      <td>0</td>\n",
       "    </tr>\n",
       "    <tr>\n",
       "      <th>49997</th>\n",
       "      <td>I am a Catholic taught in parochial elementary...</td>\n",
       "      <td>0</td>\n",
       "    </tr>\n",
       "    <tr>\n",
       "      <th>49998</th>\n",
       "      <td>I'm going to have to disagree with the previou...</td>\n",
       "      <td>0</td>\n",
       "    </tr>\n",
       "    <tr>\n",
       "      <th>49999</th>\n",
       "      <td>No one expects the Star Trek movies to be high...</td>\n",
       "      <td>0</td>\n",
       "    </tr>\n",
       "  </tbody>\n",
       "</table>\n",
       "<p>50000 rows × 2 columns</p>\n",
       "</div>"
      ]
     },
     "execution_count": 6,
     "metadata": {},
     "output_type": "execute_result"
    }
   ],
   "execution_count": 6
  },
  {
   "metadata": {
    "ExecuteTime": {
     "end_time": "2025-09-16T20:12:24.304517Z",
     "start_time": "2025-09-16T20:12:24.293326Z"
    }
   },
   "cell_type": "code",
   "source": [
    "label_0 = train[train['label']==0].sample(n=5000)\n",
    "label_1 = train[train['label']==1].sample(n=5000)"
   ],
   "id": "873fcd2687707a8f",
   "outputs": [],
   "execution_count": 7
  },
  {
   "metadata": {
    "ExecuteTime": {
     "end_time": "2025-09-16T20:12:25.973394Z",
     "start_time": "2025-09-16T20:12:25.967005Z"
    }
   },
   "cell_type": "code",
   "source": [
    "train = pd.concat([label_0,label_1])\n",
    "from sklearn.utils import shuffle\n",
    "train = shuffle(train)"
   ],
   "id": "a45f193bdc7b9d57",
   "outputs": [],
   "execution_count": 8
  },
  {
   "metadata": {
    "ExecuteTime": {
     "end_time": "2025-09-16T20:12:26.888430Z",
     "start_time": "2025-09-16T20:12:26.881777Z"
    }
   },
   "cell_type": "code",
   "source": "train",
   "id": "c5deb9efe5af0ee9",
   "outputs": [
    {
     "data": {
      "text/plain": [
       "                                                  review  label\n",
       "22902  Ghost Town starts as Kate Barrett (Catherine H...      0\n",
       "18333  My tolerance for shlocky direction was overwhe...      0\n",
       "12095  I have seen many a horror flick in my time, al...      0\n",
       "12413  \"Pixote: A Lei do Mais Fraco\" deals with what ...      1\n",
       "5476   I had the chance to watch Blind Spot in Barcel...      1\n",
       "...                                                  ...    ...\n",
       "18017  I may be biased, I am the author of the novel ...      1\n",
       "44899  this is one of the funniest shows i have ever ...      1\n",
       "7262   I'm not a Steve Carell fan however I like this...      1\n",
       "39076  Jamie Foxx is my favorite comedian. However, I...      0\n",
       "23595  A sign of what to expect in this film came whe...      1\n",
       "\n",
       "[10000 rows x 2 columns]"
      ],
      "text/html": [
       "<div>\n",
       "<style scoped>\n",
       "    .dataframe tbody tr th:only-of-type {\n",
       "        vertical-align: middle;\n",
       "    }\n",
       "\n",
       "    .dataframe tbody tr th {\n",
       "        vertical-align: top;\n",
       "    }\n",
       "\n",
       "    .dataframe thead th {\n",
       "        text-align: right;\n",
       "    }\n",
       "</style>\n",
       "<table border=\"1\" class=\"dataframe\">\n",
       "  <thead>\n",
       "    <tr style=\"text-align: right;\">\n",
       "      <th></th>\n",
       "      <th>review</th>\n",
       "      <th>label</th>\n",
       "    </tr>\n",
       "  </thead>\n",
       "  <tbody>\n",
       "    <tr>\n",
       "      <th>22902</th>\n",
       "      <td>Ghost Town starts as Kate Barrett (Catherine H...</td>\n",
       "      <td>0</td>\n",
       "    </tr>\n",
       "    <tr>\n",
       "      <th>18333</th>\n",
       "      <td>My tolerance for shlocky direction was overwhe...</td>\n",
       "      <td>0</td>\n",
       "    </tr>\n",
       "    <tr>\n",
       "      <th>12095</th>\n",
       "      <td>I have seen many a horror flick in my time, al...</td>\n",
       "      <td>0</td>\n",
       "    </tr>\n",
       "    <tr>\n",
       "      <th>12413</th>\n",
       "      <td>\"Pixote: A Lei do Mais Fraco\" deals with what ...</td>\n",
       "      <td>1</td>\n",
       "    </tr>\n",
       "    <tr>\n",
       "      <th>5476</th>\n",
       "      <td>I had the chance to watch Blind Spot in Barcel...</td>\n",
       "      <td>1</td>\n",
       "    </tr>\n",
       "    <tr>\n",
       "      <th>...</th>\n",
       "      <td>...</td>\n",
       "      <td>...</td>\n",
       "    </tr>\n",
       "    <tr>\n",
       "      <th>18017</th>\n",
       "      <td>I may be biased, I am the author of the novel ...</td>\n",
       "      <td>1</td>\n",
       "    </tr>\n",
       "    <tr>\n",
       "      <th>44899</th>\n",
       "      <td>this is one of the funniest shows i have ever ...</td>\n",
       "      <td>1</td>\n",
       "    </tr>\n",
       "    <tr>\n",
       "      <th>7262</th>\n",
       "      <td>I'm not a Steve Carell fan however I like this...</td>\n",
       "      <td>1</td>\n",
       "    </tr>\n",
       "    <tr>\n",
       "      <th>39076</th>\n",
       "      <td>Jamie Foxx is my favorite comedian. However, I...</td>\n",
       "      <td>0</td>\n",
       "    </tr>\n",
       "    <tr>\n",
       "      <th>23595</th>\n",
       "      <td>A sign of what to expect in this film came whe...</td>\n",
       "      <td>1</td>\n",
       "    </tr>\n",
       "  </tbody>\n",
       "</table>\n",
       "<p>10000 rows × 2 columns</p>\n",
       "</div>"
      ]
     },
     "execution_count": 9,
     "metadata": {},
     "output_type": "execute_result"
    }
   ],
   "execution_count": 9
  },
  {
   "metadata": {},
   "cell_type": "markdown",
   "source": "The data here has two labels, 0 and 1.  0 is negative and 1 is positive.",
   "id": "2dc7d6d6b145a99c"
  },
  {
   "metadata": {},
   "cell_type": "markdown",
   "source": "## Data Preprocessing",
   "id": "a8b07df05fc60013"
  },
  {
   "metadata": {
    "ExecuteTime": {
     "end_time": "2025-09-16T20:12:30.208332Z",
     "start_time": "2025-09-16T20:12:30.200960Z"
    }
   },
   "cell_type": "code",
   "source": "train.isnull().sum() # Check for null values",
   "id": "68a7b4547b412599",
   "outputs": [
    {
     "data": {
      "text/plain": [
       "review    0\n",
       "label     0\n",
       "dtype: int64"
      ]
     },
     "execution_count": 10,
     "metadata": {},
     "output_type": "execute_result"
    }
   ],
   "execution_count": 10
  },
  {
   "metadata": {
    "ExecuteTime": {
     "end_time": "2025-09-16T20:12:33.463419Z",
     "start_time": "2025-09-16T20:12:33.451584Z"
    }
   },
   "cell_type": "code",
   "source": [
    "import numpy as np\n",
    "train.replace(r'^\\s*$', np.nan, regex = True, inplace = True)\n",
    "train.dropna(axis = 0, how = 'any', inplace = True)"
   ],
   "id": "61d23ba7f1b5bab7",
   "outputs": [],
   "execution_count": 11
  },
  {
   "metadata": {
    "ExecuteTime": {
     "end_time": "2025-09-16T20:12:34.815138Z",
     "start_time": "2025-09-16T20:12:34.712028Z"
    }
   },
   "cell_type": "code",
   "source": [
    "train.replace(to_replace=[r\"\\\\t|\\\\n|\\\\r\", \"\\t|\\n|\\r\"], value = [\"\",\"\"], regex = True, inplace = True)\n",
    "print('escape seq removed')"
   ],
   "id": "dce054356a5ba2c3",
   "outputs": [
    {
     "name": "stdout",
     "output_type": "stream",
     "text": [
      "escape seq removed\n"
     ]
    }
   ],
   "execution_count": 12
  },
  {
   "metadata": {
    "ExecuteTime": {
     "end_time": "2025-09-16T20:12:35.980400Z",
     "start_time": "2025-09-16T20:12:35.974053Z"
    }
   },
   "cell_type": "code",
   "source": "train",
   "id": "76e831936af39c52",
   "outputs": [
    {
     "data": {
      "text/plain": [
       "                                                  review  label\n",
       "22902  Ghost Town starts as Kate Barrett (Catherine H...      0\n",
       "18333  My tolerance for shlocky direction was overwhe...      0\n",
       "12095  I have seen many a horror flick in my time, al...      0\n",
       "12413  \"Pixote: A Lei do Mais Fraco\" deals with what ...      1\n",
       "5476   I had the chance to watch Blind Spot in Barcel...      1\n",
       "...                                                  ...    ...\n",
       "18017  I may be biased, I am the author of the novel ...      1\n",
       "44899  this is one of the funniest shows i have ever ...      1\n",
       "7262   I'm not a Steve Carell fan however I like this...      1\n",
       "39076  Jamie Foxx is my favorite comedian. However, I...      0\n",
       "23595  A sign of what to expect in this film came whe...      1\n",
       "\n",
       "[10000 rows x 2 columns]"
      ],
      "text/html": [
       "<div>\n",
       "<style scoped>\n",
       "    .dataframe tbody tr th:only-of-type {\n",
       "        vertical-align: middle;\n",
       "    }\n",
       "\n",
       "    .dataframe tbody tr th {\n",
       "        vertical-align: top;\n",
       "    }\n",
       "\n",
       "    .dataframe thead th {\n",
       "        text-align: right;\n",
       "    }\n",
       "</style>\n",
       "<table border=\"1\" class=\"dataframe\">\n",
       "  <thead>\n",
       "    <tr style=\"text-align: right;\">\n",
       "      <th></th>\n",
       "      <th>review</th>\n",
       "      <th>label</th>\n",
       "    </tr>\n",
       "  </thead>\n",
       "  <tbody>\n",
       "    <tr>\n",
       "      <th>22902</th>\n",
       "      <td>Ghost Town starts as Kate Barrett (Catherine H...</td>\n",
       "      <td>0</td>\n",
       "    </tr>\n",
       "    <tr>\n",
       "      <th>18333</th>\n",
       "      <td>My tolerance for shlocky direction was overwhe...</td>\n",
       "      <td>0</td>\n",
       "    </tr>\n",
       "    <tr>\n",
       "      <th>12095</th>\n",
       "      <td>I have seen many a horror flick in my time, al...</td>\n",
       "      <td>0</td>\n",
       "    </tr>\n",
       "    <tr>\n",
       "      <th>12413</th>\n",
       "      <td>\"Pixote: A Lei do Mais Fraco\" deals with what ...</td>\n",
       "      <td>1</td>\n",
       "    </tr>\n",
       "    <tr>\n",
       "      <th>5476</th>\n",
       "      <td>I had the chance to watch Blind Spot in Barcel...</td>\n",
       "      <td>1</td>\n",
       "    </tr>\n",
       "    <tr>\n",
       "      <th>...</th>\n",
       "      <td>...</td>\n",
       "      <td>...</td>\n",
       "    </tr>\n",
       "    <tr>\n",
       "      <th>18017</th>\n",
       "      <td>I may be biased, I am the author of the novel ...</td>\n",
       "      <td>1</td>\n",
       "    </tr>\n",
       "    <tr>\n",
       "      <th>44899</th>\n",
       "      <td>this is one of the funniest shows i have ever ...</td>\n",
       "      <td>1</td>\n",
       "    </tr>\n",
       "    <tr>\n",
       "      <th>7262</th>\n",
       "      <td>I'm not a Steve Carell fan however I like this...</td>\n",
       "      <td>1</td>\n",
       "    </tr>\n",
       "    <tr>\n",
       "      <th>39076</th>\n",
       "      <td>Jamie Foxx is my favorite comedian. However, I...</td>\n",
       "      <td>0</td>\n",
       "    </tr>\n",
       "    <tr>\n",
       "      <th>23595</th>\n",
       "      <td>A sign of what to expect in this film came whe...</td>\n",
       "      <td>1</td>\n",
       "    </tr>\n",
       "  </tbody>\n",
       "</table>\n",
       "<p>10000 rows × 2 columns</p>\n",
       "</div>"
      ]
     },
     "execution_count": 13,
     "metadata": {},
     "output_type": "execute_result"
    }
   ],
   "execution_count": 13
  },
  {
   "metadata": {
    "ExecuteTime": {
     "end_time": "2025-09-16T20:12:39.161087Z",
     "start_time": "2025-09-16T20:12:39.129750Z"
    }
   },
   "cell_type": "code",
   "source": [
    "train['review'] = train['review'].str.encode('ascii', 'ignore').str.decode('ascii')\n",
    "print('non-ascii data removed')"
   ],
   "id": "6013de13d07dc7ca",
   "outputs": [
    {
     "name": "stdout",
     "output_type": "stream",
     "text": [
      "non-ascii data removed\n"
     ]
    }
   ],
   "execution_count": 14
  },
  {
   "metadata": {
    "ExecuteTime": {
     "end_time": "2025-09-16T20:12:40.115213Z",
     "start_time": "2025-09-16T20:12:40.111650Z"
    }
   },
   "cell_type": "code",
   "source": [
    "import string\n",
    "string.punctuation"
   ],
   "id": "61779774865bd8c8",
   "outputs": [
    {
     "data": {
      "text/plain": [
       "'!\"#$%&\\'()*+,-./:;<=>?@[\\\\]^_`{|}~'"
      ]
     },
     "execution_count": 15,
     "metadata": {},
     "output_type": "execute_result"
    }
   ],
   "execution_count": 15
  },
  {
   "metadata": {
    "ExecuteTime": {
     "end_time": "2025-09-16T20:12:41.816793Z",
     "start_time": "2025-09-16T20:12:41.560368Z"
    }
   },
   "cell_type": "code",
   "source": [
    "def remove_punctuation(review):\n",
    "    import string\n",
    "    for punctuation in string.punctuation:\n",
    "        review = review.replace(punctuation,'')\n",
    "    return review\n",
    "train['review'] = train['review'].apply(remove_punctuation)"
   ],
   "id": "88cac0a488400a5f",
   "outputs": [],
   "execution_count": 16
  },
  {
   "metadata": {
    "ExecuteTime": {
     "end_time": "2025-09-16T20:12:42.459511Z",
     "start_time": "2025-09-16T20:12:42.452060Z"
    }
   },
   "cell_type": "code",
   "source": "train",
   "id": "3de20cef9429d4db",
   "outputs": [
    {
     "data": {
      "text/plain": [
       "                                                  review  label\n",
       "22902  Ghost Town starts as Kate Barrett Catherine Hi...      0\n",
       "18333  My tolerance for shlocky direction was overwhe...      0\n",
       "12095  I have seen many a horror flick in my time all...      0\n",
       "12413  Pixote A Lei do Mais Fraco deals with what is ...      1\n",
       "5476   I had the chance to watch Blind Spot in Barcel...      1\n",
       "...                                                  ...    ...\n",
       "18017  I may be biased I am the author of the novel T...      1\n",
       "44899  this is one of the funniest shows i have ever ...      1\n",
       "7262   Im not a Steve Carell fan however I like this ...      1\n",
       "39076  Jamie Foxx is my favorite comedian However I f...      0\n",
       "23595  A sign of what to expect in this film came whe...      1\n",
       "\n",
       "[10000 rows x 2 columns]"
      ],
      "text/html": [
       "<div>\n",
       "<style scoped>\n",
       "    .dataframe tbody tr th:only-of-type {\n",
       "        vertical-align: middle;\n",
       "    }\n",
       "\n",
       "    .dataframe tbody tr th {\n",
       "        vertical-align: top;\n",
       "    }\n",
       "\n",
       "    .dataframe thead th {\n",
       "        text-align: right;\n",
       "    }\n",
       "</style>\n",
       "<table border=\"1\" class=\"dataframe\">\n",
       "  <thead>\n",
       "    <tr style=\"text-align: right;\">\n",
       "      <th></th>\n",
       "      <th>review</th>\n",
       "      <th>label</th>\n",
       "    </tr>\n",
       "  </thead>\n",
       "  <tbody>\n",
       "    <tr>\n",
       "      <th>22902</th>\n",
       "      <td>Ghost Town starts as Kate Barrett Catherine Hi...</td>\n",
       "      <td>0</td>\n",
       "    </tr>\n",
       "    <tr>\n",
       "      <th>18333</th>\n",
       "      <td>My tolerance for shlocky direction was overwhe...</td>\n",
       "      <td>0</td>\n",
       "    </tr>\n",
       "    <tr>\n",
       "      <th>12095</th>\n",
       "      <td>I have seen many a horror flick in my time all...</td>\n",
       "      <td>0</td>\n",
       "    </tr>\n",
       "    <tr>\n",
       "      <th>12413</th>\n",
       "      <td>Pixote A Lei do Mais Fraco deals with what is ...</td>\n",
       "      <td>1</td>\n",
       "    </tr>\n",
       "    <tr>\n",
       "      <th>5476</th>\n",
       "      <td>I had the chance to watch Blind Spot in Barcel...</td>\n",
       "      <td>1</td>\n",
       "    </tr>\n",
       "    <tr>\n",
       "      <th>...</th>\n",
       "      <td>...</td>\n",
       "      <td>...</td>\n",
       "    </tr>\n",
       "    <tr>\n",
       "      <th>18017</th>\n",
       "      <td>I may be biased I am the author of the novel T...</td>\n",
       "      <td>1</td>\n",
       "    </tr>\n",
       "    <tr>\n",
       "      <th>44899</th>\n",
       "      <td>this is one of the funniest shows i have ever ...</td>\n",
       "      <td>1</td>\n",
       "    </tr>\n",
       "    <tr>\n",
       "      <th>7262</th>\n",
       "      <td>Im not a Steve Carell fan however I like this ...</td>\n",
       "      <td>1</td>\n",
       "    </tr>\n",
       "    <tr>\n",
       "      <th>39076</th>\n",
       "      <td>Jamie Foxx is my favorite comedian However I f...</td>\n",
       "      <td>0</td>\n",
       "    </tr>\n",
       "    <tr>\n",
       "      <th>23595</th>\n",
       "      <td>A sign of what to expect in this film came whe...</td>\n",
       "      <td>1</td>\n",
       "    </tr>\n",
       "  </tbody>\n",
       "</table>\n",
       "<p>10000 rows × 2 columns</p>\n",
       "</div>"
      ]
     },
     "execution_count": 17,
     "metadata": {},
     "output_type": "execute_result"
    }
   ],
   "execution_count": 17
  },
  {
   "metadata": {
    "ExecuteTime": {
     "end_time": "2025-09-16T20:12:46.011343Z",
     "start_time": "2025-09-16T20:12:46.005543Z"
    }
   },
   "cell_type": "code",
   "source": [
    "import nltk\n",
    "from nltk.corpus import stopwords\n",
    "print(stopwords.words('english'))"
   ],
   "id": "d02f0aa975facf28",
   "outputs": [
    {
     "name": "stdout",
     "output_type": "stream",
     "text": [
      "['a', 'about', 'above', 'after', 'again', 'against', 'ain', 'all', 'am', 'an', 'and', 'any', 'are', 'aren', \"aren't\", 'as', 'at', 'be', 'because', 'been', 'before', 'being', 'below', 'between', 'both', 'but', 'by', 'can', 'couldn', \"couldn't\", 'd', 'did', 'didn', \"didn't\", 'do', 'does', 'doesn', \"doesn't\", 'doing', 'don', \"don't\", 'down', 'during', 'each', 'few', 'for', 'from', 'further', 'had', 'hadn', \"hadn't\", 'has', 'hasn', \"hasn't\", 'have', 'haven', \"haven't\", 'having', 'he', \"he'd\", \"he'll\", 'her', 'here', 'hers', 'herself', \"he's\", 'him', 'himself', 'his', 'how', 'i', \"i'd\", 'if', \"i'll\", \"i'm\", 'in', 'into', 'is', 'isn', \"isn't\", 'it', \"it'd\", \"it'll\", \"it's\", 'its', 'itself', \"i've\", 'just', 'll', 'm', 'ma', 'me', 'mightn', \"mightn't\", 'more', 'most', 'mustn', \"mustn't\", 'my', 'myself', 'needn', \"needn't\", 'no', 'nor', 'not', 'now', 'o', 'of', 'off', 'on', 'once', 'only', 'or', 'other', 'our', 'ours', 'ourselves', 'out', 'over', 'own', 're', 's', 'same', 'shan', \"shan't\", 'she', \"she'd\", \"she'll\", \"she's\", 'should', 'shouldn', \"shouldn't\", \"should've\", 'so', 'some', 'such', 't', 'than', 'that', \"that'll\", 'the', 'their', 'theirs', 'them', 'themselves', 'then', 'there', 'these', 'they', \"they'd\", \"they'll\", \"they're\", \"they've\", 'this', 'those', 'through', 'to', 'too', 'under', 'until', 'up', 've', 'very', 'was', 'wasn', \"wasn't\", 'we', \"we'd\", \"we'll\", \"we're\", 'were', 'weren', \"weren't\", \"we've\", 'what', 'when', 'where', 'which', 'while', 'who', 'whom', 'why', 'will', 'with', 'won', \"won't\", 'wouldn', \"wouldn't\", 'y', 'you', \"you'd\", \"you'll\", 'your', \"you're\", 'yours', 'yourself', 'yourselves', \"you've\"]\n"
     ]
    }
   ],
   "execution_count": 18
  },
  {
   "metadata": {
    "ExecuteTime": {
     "end_time": "2025-09-16T20:12:47.645351Z",
     "start_time": "2025-09-16T20:12:47.641884Z"
    }
   },
   "cell_type": "code",
   "source": [
    "stopword_list = nltk.corpus.stopwords.words('english')\n",
    "stopword_list.remove('no')\n",
    "stopword_list.remove('not')"
   ],
   "id": "d7b5f1b3a091346c",
   "outputs": [],
   "execution_count": 19
  },
  {
   "metadata": {
    "ExecuteTime": {
     "end_time": "2025-09-16T20:12:52.299621Z",
     "start_time": "2025-09-16T20:12:52.295547Z"
    }
   },
   "cell_type": "code",
   "source": [
    "def custom_remove_stopwords(review, is_lower_case = False):\n",
    "    tokens = tokenizer.tokenize(review)\n",
    "    tokens = [token.strip() for token in tokens]\n",
    "    if is_lower_case:\n",
    "        filtered_tokens = [token for token in tokens if token not in stopword_list]\n",
    "    else:\n",
    "        filtered_tokens = [token for token in tokens if token.lower() not in stopword_list]\n",
    "    filtered_review = ' '.join(filtered_tokens)\n",
    "    return filtered_review"
   ],
   "id": "d19f4f72224872b",
   "outputs": [],
   "execution_count": 20
  },
  {
   "metadata": {
    "ExecuteTime": {
     "end_time": "2025-09-16T20:12:58.594939Z",
     "start_time": "2025-09-16T20:12:53.342403Z"
    }
   },
   "cell_type": "code",
   "source": "train['review'] = train['review'].apply(custom_remove_stopwords)",
   "id": "d1be39730ca2d0f8",
   "outputs": [],
   "execution_count": 21
  },
  {
   "metadata": {
    "ExecuteTime": {
     "end_time": "2025-09-16T20:12:58.610238Z",
     "start_time": "2025-09-16T20:12:58.603412Z"
    }
   },
   "cell_type": "code",
   "source": "train",
   "id": "dbeb44ab1797e4d",
   "outputs": [
    {
     "data": {
      "text/plain": [
       "                                                  review  label\n",
       "22902  Ghost Town starts Kate Barrett Catherine Hickl...      0\n",
       "18333  tolerance shlocky direction overwhelmed choice...      0\n",
       "12095  seen many horror flick time absurdly bad none ...      0\n",
       "12413  Pixote Lei Mais Fraco deals perhaps greatest B...      1\n",
       "5476   chance watch Blind Spot Barcelona enjoyed trem...      1\n",
       "...                                                  ...    ...\n",
       "18017  may biased author novel Hungry Bachelors Club ...      1\n",
       "44899  one funniest shows ever seen really refreshing...      1\n",
       "7262   Im not Steve Carell fan however like movie Dan...      1\n",
       "39076  Jamie Foxx favorite comedian However feel sold...      0\n",
       "23595  sign expect film came spotted first probably l...      1\n",
       "\n",
       "[10000 rows x 2 columns]"
      ],
      "text/html": [
       "<div>\n",
       "<style scoped>\n",
       "    .dataframe tbody tr th:only-of-type {\n",
       "        vertical-align: middle;\n",
       "    }\n",
       "\n",
       "    .dataframe tbody tr th {\n",
       "        vertical-align: top;\n",
       "    }\n",
       "\n",
       "    .dataframe thead th {\n",
       "        text-align: right;\n",
       "    }\n",
       "</style>\n",
       "<table border=\"1\" class=\"dataframe\">\n",
       "  <thead>\n",
       "    <tr style=\"text-align: right;\">\n",
       "      <th></th>\n",
       "      <th>review</th>\n",
       "      <th>label</th>\n",
       "    </tr>\n",
       "  </thead>\n",
       "  <tbody>\n",
       "    <tr>\n",
       "      <th>22902</th>\n",
       "      <td>Ghost Town starts Kate Barrett Catherine Hickl...</td>\n",
       "      <td>0</td>\n",
       "    </tr>\n",
       "    <tr>\n",
       "      <th>18333</th>\n",
       "      <td>tolerance shlocky direction overwhelmed choice...</td>\n",
       "      <td>0</td>\n",
       "    </tr>\n",
       "    <tr>\n",
       "      <th>12095</th>\n",
       "      <td>seen many horror flick time absurdly bad none ...</td>\n",
       "      <td>0</td>\n",
       "    </tr>\n",
       "    <tr>\n",
       "      <th>12413</th>\n",
       "      <td>Pixote Lei Mais Fraco deals perhaps greatest B...</td>\n",
       "      <td>1</td>\n",
       "    </tr>\n",
       "    <tr>\n",
       "      <th>5476</th>\n",
       "      <td>chance watch Blind Spot Barcelona enjoyed trem...</td>\n",
       "      <td>1</td>\n",
       "    </tr>\n",
       "    <tr>\n",
       "      <th>...</th>\n",
       "      <td>...</td>\n",
       "      <td>...</td>\n",
       "    </tr>\n",
       "    <tr>\n",
       "      <th>18017</th>\n",
       "      <td>may biased author novel Hungry Bachelors Club ...</td>\n",
       "      <td>1</td>\n",
       "    </tr>\n",
       "    <tr>\n",
       "      <th>44899</th>\n",
       "      <td>one funniest shows ever seen really refreshing...</td>\n",
       "      <td>1</td>\n",
       "    </tr>\n",
       "    <tr>\n",
       "      <th>7262</th>\n",
       "      <td>Im not Steve Carell fan however like movie Dan...</td>\n",
       "      <td>1</td>\n",
       "    </tr>\n",
       "    <tr>\n",
       "      <th>39076</th>\n",
       "      <td>Jamie Foxx favorite comedian However feel sold...</td>\n",
       "      <td>0</td>\n",
       "    </tr>\n",
       "    <tr>\n",
       "      <th>23595</th>\n",
       "      <td>sign expect film came spotted first probably l...</td>\n",
       "      <td>1</td>\n",
       "    </tr>\n",
       "  </tbody>\n",
       "</table>\n",
       "<p>10000 rows × 2 columns</p>\n",
       "</div>"
      ]
     },
     "execution_count": 22,
     "metadata": {},
     "output_type": "execute_result"
    }
   ],
   "execution_count": 22
  },
  {
   "metadata": {
    "ExecuteTime": {
     "end_time": "2025-09-16T20:13:12.343616Z",
     "start_time": "2025-09-16T20:13:12.340887Z"
    }
   },
   "cell_type": "code",
   "source": [
    "def remove_special_characters(review):\n",
    "    review = re.sub('[^a-zA-Z0-9\\s]', '', review)\n",
    "    return review"
   ],
   "id": "11c4620b6bb047de",
   "outputs": [],
   "execution_count": 23
  },
  {
   "metadata": {
    "ExecuteTime": {
     "end_time": "2025-09-16T20:13:13.366775Z",
     "start_time": "2025-09-16T20:13:13.299514Z"
    }
   },
   "cell_type": "code",
   "source": "train['review'] = train['review'].apply(remove_special_characters)",
   "id": "70036199e492d922",
   "outputs": [],
   "execution_count": 24
  },
  {
   "metadata": {
    "ExecuteTime": {
     "end_time": "2025-09-16T20:13:14.142255Z",
     "start_time": "2025-09-16T20:13:14.139747Z"
    }
   },
   "cell_type": "code",
   "source": [
    "def remove_html(review):\n",
    "    import re\n",
    "    html_pattern = re.compile('<.*?>')\n",
    "    return html_pattern.sub(r'', review)"
   ],
   "id": "bd7fe3a6d1ab077e",
   "outputs": [],
   "execution_count": 25
  },
  {
   "metadata": {
    "ExecuteTime": {
     "end_time": "2025-09-16T20:13:16.041607Z",
     "start_time": "2025-09-16T20:13:16.022686Z"
    }
   },
   "cell_type": "code",
   "source": "train['review'] = train['review'].apply(remove_html)",
   "id": "2e60d676006153d2",
   "outputs": [],
   "execution_count": 26
  },
  {
   "metadata": {
    "ExecuteTime": {
     "end_time": "2025-09-16T20:13:16.998882Z",
     "start_time": "2025-09-16T20:13:16.996263Z"
    }
   },
   "cell_type": "code",
   "source": [
    "def remove_URL(review):\n",
    "    url = re.compile(r'https?://\\S+|www\\S+')\n",
    "    return url.sub(r'', review)"
   ],
   "id": "f2830afc3d8537ee",
   "outputs": [],
   "execution_count": 27
  },
  {
   "metadata": {
    "ExecuteTime": {
     "end_time": "2025-09-16T20:13:18.036481Z",
     "start_time": "2025-09-16T20:13:17.976333Z"
    }
   },
   "cell_type": "code",
   "source": "train['review'] = train['review'].apply(remove_URL)",
   "id": "1e57b79c5a36be74",
   "outputs": [],
   "execution_count": 28
  },
  {
   "metadata": {
    "ExecuteTime": {
     "end_time": "2025-09-16T20:13:19.389075Z",
     "start_time": "2025-09-16T20:13:19.386035Z"
    }
   },
   "cell_type": "code",
   "source": [
    "def remove_numbers(review):\n",
    "    \"\"\" Remove integers \"\"\"\n",
    "    review = ''.join([i for i in review if not i.isdigit()])\n",
    "    return review"
   ],
   "id": "eecaa2ba75dbc4ed",
   "outputs": [],
   "execution_count": 29
  },
  {
   "metadata": {
    "ExecuteTime": {
     "end_time": "2025-09-16T20:13:20.472276Z",
     "start_time": "2025-09-16T20:13:20.134887Z"
    }
   },
   "cell_type": "code",
   "source": "train['review'] = train['review'].apply(remove_numbers)",
   "id": "73f003a200d7e773",
   "outputs": [],
   "execution_count": 30
  },
  {
   "metadata": {
    "ExecuteTime": {
     "end_time": "2025-09-16T20:13:22.023097Z",
     "start_time": "2025-09-16T20:13:22.018368Z"
    }
   },
   "cell_type": "code",
   "source": [
    "def cleanse(word):\n",
    "    rx = re.compile(r'\\D*\\d')\n",
    "    if rx.match(word):\n",
    "        return ''\n",
    "    return word\n",
    "\n",
    "def remove_alphanumeric(s):\n",
    "    return \" \".join(filter(None, (cleanse(w) for w in s.split())))"
   ],
   "id": "fd668b55f182a552",
   "outputs": [],
   "execution_count": 31
  },
  {
   "metadata": {
    "ExecuteTime": {
     "end_time": "2025-09-16T20:13:23.673760Z",
     "start_time": "2025-09-16T20:13:22.809715Z"
    }
   },
   "cell_type": "code",
   "source": "train['review'] = train['review'].apply(remove_alphanumeric)",
   "id": "4fcbe9d23f530ee",
   "outputs": [],
   "execution_count": 32
  },
  {
   "metadata": {
    "ExecuteTime": {
     "end_time": "2025-09-16T20:13:24.095172Z",
     "start_time": "2025-09-16T20:13:24.089742Z"
    }
   },
   "cell_type": "code",
   "source": "train",
   "id": "c829b7ded5b98584",
   "outputs": [
    {
     "data": {
      "text/plain": [
       "                                                  review  label\n",
       "22902  Ghost Town starts Kate Barrett Catherine Hickl...      0\n",
       "18333  tolerance shlocky direction overwhelmed choice...      0\n",
       "12095  seen many horror flick time absurdly bad none ...      0\n",
       "12413  Pixote Lei Mais Fraco deals perhaps greatest B...      1\n",
       "5476   chance watch Blind Spot Barcelona enjoyed trem...      1\n",
       "...                                                  ...    ...\n",
       "18017  may biased author novel Hungry Bachelors Club ...      1\n",
       "44899  one funniest shows ever seen really refreshing...      1\n",
       "7262   Im not Steve Carell fan however like movie Dan...      1\n",
       "39076  Jamie Foxx favorite comedian However feel sold...      0\n",
       "23595  sign expect film came spotted first probably l...      1\n",
       "\n",
       "[10000 rows x 2 columns]"
      ],
      "text/html": [
       "<div>\n",
       "<style scoped>\n",
       "    .dataframe tbody tr th:only-of-type {\n",
       "        vertical-align: middle;\n",
       "    }\n",
       "\n",
       "    .dataframe tbody tr th {\n",
       "        vertical-align: top;\n",
       "    }\n",
       "\n",
       "    .dataframe thead th {\n",
       "        text-align: right;\n",
       "    }\n",
       "</style>\n",
       "<table border=\"1\" class=\"dataframe\">\n",
       "  <thead>\n",
       "    <tr style=\"text-align: right;\">\n",
       "      <th></th>\n",
       "      <th>review</th>\n",
       "      <th>label</th>\n",
       "    </tr>\n",
       "  </thead>\n",
       "  <tbody>\n",
       "    <tr>\n",
       "      <th>22902</th>\n",
       "      <td>Ghost Town starts Kate Barrett Catherine Hickl...</td>\n",
       "      <td>0</td>\n",
       "    </tr>\n",
       "    <tr>\n",
       "      <th>18333</th>\n",
       "      <td>tolerance shlocky direction overwhelmed choice...</td>\n",
       "      <td>0</td>\n",
       "    </tr>\n",
       "    <tr>\n",
       "      <th>12095</th>\n",
       "      <td>seen many horror flick time absurdly bad none ...</td>\n",
       "      <td>0</td>\n",
       "    </tr>\n",
       "    <tr>\n",
       "      <th>12413</th>\n",
       "      <td>Pixote Lei Mais Fraco deals perhaps greatest B...</td>\n",
       "      <td>1</td>\n",
       "    </tr>\n",
       "    <tr>\n",
       "      <th>5476</th>\n",
       "      <td>chance watch Blind Spot Barcelona enjoyed trem...</td>\n",
       "      <td>1</td>\n",
       "    </tr>\n",
       "    <tr>\n",
       "      <th>...</th>\n",
       "      <td>...</td>\n",
       "      <td>...</td>\n",
       "    </tr>\n",
       "    <tr>\n",
       "      <th>18017</th>\n",
       "      <td>may biased author novel Hungry Bachelors Club ...</td>\n",
       "      <td>1</td>\n",
       "    </tr>\n",
       "    <tr>\n",
       "      <th>44899</th>\n",
       "      <td>one funniest shows ever seen really refreshing...</td>\n",
       "      <td>1</td>\n",
       "    </tr>\n",
       "    <tr>\n",
       "      <th>7262</th>\n",
       "      <td>Im not Steve Carell fan however like movie Dan...</td>\n",
       "      <td>1</td>\n",
       "    </tr>\n",
       "    <tr>\n",
       "      <th>39076</th>\n",
       "      <td>Jamie Foxx favorite comedian However feel sold...</td>\n",
       "      <td>0</td>\n",
       "    </tr>\n",
       "    <tr>\n",
       "      <th>23595</th>\n",
       "      <td>sign expect film came spotted first probably l...</td>\n",
       "      <td>1</td>\n",
       "    </tr>\n",
       "  </tbody>\n",
       "</table>\n",
       "<p>10000 rows × 2 columns</p>\n",
       "</div>"
      ]
     },
     "execution_count": 33,
     "metadata": {},
     "output_type": "execute_result"
    }
   ],
   "execution_count": 33
  },
  {
   "metadata": {
    "ExecuteTime": {
     "end_time": "2025-09-16T20:24:47.533005Z",
     "start_time": "2025-09-16T20:24:43.308299Z"
    }
   },
   "cell_type": "code",
   "source": "train['sentiment'] = train['review'].apply(lambda x: TextBlob(x).sentiment)",
   "id": "15fa4539faff1f0b",
   "outputs": [],
   "execution_count": 45
  },
  {
   "metadata": {
    "ExecuteTime": {
     "end_time": "2025-09-16T20:24:54.169364Z",
     "start_time": "2025-09-16T20:24:54.161633Z"
    }
   },
   "cell_type": "code",
   "source": "train",
   "id": "3260771a21bd9142",
   "outputs": [
    {
     "data": {
      "text/plain": [
       "                                                  review  label  \\\n",
       "22902  Ghost Town starts Kate Barrett Catherine Hickl...      0   \n",
       "18333  tolerance shlocky direction overwhelmed choice...      0   \n",
       "12095  seen many horror flick time absurdly bad none ...      0   \n",
       "12413  Pixote Lei Mais Fraco deals perhaps greatest B...      1   \n",
       "5476   chance watch Blind Spot Barcelona enjoyed trem...      1   \n",
       "...                                                  ...    ...   \n",
       "18017  may biased author novel Hungry Bachelors Club ...      1   \n",
       "44899  one funniest shows ever seen really refreshing...      1   \n",
       "7262   Im not Steve Carell fan however like movie Dan...      1   \n",
       "39076  Jamie Foxx favorite comedian However feel sold...      0   \n",
       "23595  sign expect film came spotted first probably l...      1   \n",
       "\n",
       "                                         sentiment  \n",
       "22902  (-0.02980990783410139, 0.44915834613415273)  \n",
       "18333   (0.17857142857142858, 0.38571428571428573)  \n",
       "12095   (-0.06874999999999998, 0.4895833333333333)  \n",
       "12413    (0.14166666666666666, 0.6166666666666666)  \n",
       "5476       (0.37302489177489173, 0.69629329004329)  \n",
       "...                                            ...  \n",
       "18017     (0.2527777777777778, 0.5935185185185186)  \n",
       "44899    (0.09930555555555555, 0.6267361111111112)  \n",
       "7262                  (0.3375, 0.6545454545454545)  \n",
       "39076     (0.2569444444444444, 0.5222222222222223)  \n",
       "23595     (0.2772222222222222, 0.6044444444444446)  \n",
       "\n",
       "[10000 rows x 3 columns]"
      ],
      "text/html": [
       "<div>\n",
       "<style scoped>\n",
       "    .dataframe tbody tr th:only-of-type {\n",
       "        vertical-align: middle;\n",
       "    }\n",
       "\n",
       "    .dataframe tbody tr th {\n",
       "        vertical-align: top;\n",
       "    }\n",
       "\n",
       "    .dataframe thead th {\n",
       "        text-align: right;\n",
       "    }\n",
       "</style>\n",
       "<table border=\"1\" class=\"dataframe\">\n",
       "  <thead>\n",
       "    <tr style=\"text-align: right;\">\n",
       "      <th></th>\n",
       "      <th>review</th>\n",
       "      <th>label</th>\n",
       "      <th>sentiment</th>\n",
       "    </tr>\n",
       "  </thead>\n",
       "  <tbody>\n",
       "    <tr>\n",
       "      <th>22902</th>\n",
       "      <td>Ghost Town starts Kate Barrett Catherine Hickl...</td>\n",
       "      <td>0</td>\n",
       "      <td>(-0.02980990783410139, 0.44915834613415273)</td>\n",
       "    </tr>\n",
       "    <tr>\n",
       "      <th>18333</th>\n",
       "      <td>tolerance shlocky direction overwhelmed choice...</td>\n",
       "      <td>0</td>\n",
       "      <td>(0.17857142857142858, 0.38571428571428573)</td>\n",
       "    </tr>\n",
       "    <tr>\n",
       "      <th>12095</th>\n",
       "      <td>seen many horror flick time absurdly bad none ...</td>\n",
       "      <td>0</td>\n",
       "      <td>(-0.06874999999999998, 0.4895833333333333)</td>\n",
       "    </tr>\n",
       "    <tr>\n",
       "      <th>12413</th>\n",
       "      <td>Pixote Lei Mais Fraco deals perhaps greatest B...</td>\n",
       "      <td>1</td>\n",
       "      <td>(0.14166666666666666, 0.6166666666666666)</td>\n",
       "    </tr>\n",
       "    <tr>\n",
       "      <th>5476</th>\n",
       "      <td>chance watch Blind Spot Barcelona enjoyed trem...</td>\n",
       "      <td>1</td>\n",
       "      <td>(0.37302489177489173, 0.69629329004329)</td>\n",
       "    </tr>\n",
       "    <tr>\n",
       "      <th>...</th>\n",
       "      <td>...</td>\n",
       "      <td>...</td>\n",
       "      <td>...</td>\n",
       "    </tr>\n",
       "    <tr>\n",
       "      <th>18017</th>\n",
       "      <td>may biased author novel Hungry Bachelors Club ...</td>\n",
       "      <td>1</td>\n",
       "      <td>(0.2527777777777778, 0.5935185185185186)</td>\n",
       "    </tr>\n",
       "    <tr>\n",
       "      <th>44899</th>\n",
       "      <td>one funniest shows ever seen really refreshing...</td>\n",
       "      <td>1</td>\n",
       "      <td>(0.09930555555555555, 0.6267361111111112)</td>\n",
       "    </tr>\n",
       "    <tr>\n",
       "      <th>7262</th>\n",
       "      <td>Im not Steve Carell fan however like movie Dan...</td>\n",
       "      <td>1</td>\n",
       "      <td>(0.3375, 0.6545454545454545)</td>\n",
       "    </tr>\n",
       "    <tr>\n",
       "      <th>39076</th>\n",
       "      <td>Jamie Foxx favorite comedian However feel sold...</td>\n",
       "      <td>0</td>\n",
       "      <td>(0.2569444444444444, 0.5222222222222223)</td>\n",
       "    </tr>\n",
       "    <tr>\n",
       "      <th>23595</th>\n",
       "      <td>sign expect film came spotted first probably l...</td>\n",
       "      <td>1</td>\n",
       "      <td>(0.2772222222222222, 0.6044444444444446)</td>\n",
       "    </tr>\n",
       "  </tbody>\n",
       "</table>\n",
       "<p>10000 rows × 3 columns</p>\n",
       "</div>"
      ]
     },
     "execution_count": 46,
     "metadata": {},
     "output_type": "execute_result"
    }
   ],
   "execution_count": 46
  },
  {
   "metadata": {
    "ExecuteTime": {
     "end_time": "2025-09-16T20:24:56.525893Z",
     "start_time": "2025-09-16T20:24:56.519992Z"
    }
   },
   "cell_type": "code",
   "source": "sentiment_series = train['sentiment'].tolist()",
   "id": "4cd411a9ef536219",
   "outputs": [],
   "execution_count": 47
  },
  {
   "metadata": {
    "ExecuteTime": {
     "end_time": "2025-09-16T20:24:57.377228Z",
     "start_time": "2025-09-16T20:24:57.366312Z"
    }
   },
   "cell_type": "code",
   "source": [
    "columns = ['polarity', 'subjectivity']\n",
    "df1 = pd.DataFrame(sentiment_series, columns = columns, index = train.index)"
   ],
   "id": "42e4d02e2e0dcf85",
   "outputs": [],
   "execution_count": 48
  },
  {
   "metadata": {
    "ExecuteTime": {
     "end_time": "2025-09-16T20:24:58.310721Z",
     "start_time": "2025-09-16T20:24:58.302400Z"
    }
   },
   "cell_type": "code",
   "source": "df1",
   "id": "1d12df60a9c4b2e5",
   "outputs": [
    {
     "data": {
      "text/plain": [
       "       polarity  subjectivity\n",
       "22902 -0.029810      0.449158\n",
       "18333  0.178571      0.385714\n",
       "12095 -0.068750      0.489583\n",
       "12413  0.141667      0.616667\n",
       "5476   0.373025      0.696293\n",
       "...         ...           ...\n",
       "18017  0.252778      0.593519\n",
       "44899  0.099306      0.626736\n",
       "7262   0.337500      0.654545\n",
       "39076  0.256944      0.522222\n",
       "23595  0.277222      0.604444\n",
       "\n",
       "[10000 rows x 2 columns]"
      ],
      "text/html": [
       "<div>\n",
       "<style scoped>\n",
       "    .dataframe tbody tr th:only-of-type {\n",
       "        vertical-align: middle;\n",
       "    }\n",
       "\n",
       "    .dataframe tbody tr th {\n",
       "        vertical-align: top;\n",
       "    }\n",
       "\n",
       "    .dataframe thead th {\n",
       "        text-align: right;\n",
       "    }\n",
       "</style>\n",
       "<table border=\"1\" class=\"dataframe\">\n",
       "  <thead>\n",
       "    <tr style=\"text-align: right;\">\n",
       "      <th></th>\n",
       "      <th>polarity</th>\n",
       "      <th>subjectivity</th>\n",
       "    </tr>\n",
       "  </thead>\n",
       "  <tbody>\n",
       "    <tr>\n",
       "      <th>22902</th>\n",
       "      <td>-0.029810</td>\n",
       "      <td>0.449158</td>\n",
       "    </tr>\n",
       "    <tr>\n",
       "      <th>18333</th>\n",
       "      <td>0.178571</td>\n",
       "      <td>0.385714</td>\n",
       "    </tr>\n",
       "    <tr>\n",
       "      <th>12095</th>\n",
       "      <td>-0.068750</td>\n",
       "      <td>0.489583</td>\n",
       "    </tr>\n",
       "    <tr>\n",
       "      <th>12413</th>\n",
       "      <td>0.141667</td>\n",
       "      <td>0.616667</td>\n",
       "    </tr>\n",
       "    <tr>\n",
       "      <th>5476</th>\n",
       "      <td>0.373025</td>\n",
       "      <td>0.696293</td>\n",
       "    </tr>\n",
       "    <tr>\n",
       "      <th>...</th>\n",
       "      <td>...</td>\n",
       "      <td>...</td>\n",
       "    </tr>\n",
       "    <tr>\n",
       "      <th>18017</th>\n",
       "      <td>0.252778</td>\n",
       "      <td>0.593519</td>\n",
       "    </tr>\n",
       "    <tr>\n",
       "      <th>44899</th>\n",
       "      <td>0.099306</td>\n",
       "      <td>0.626736</td>\n",
       "    </tr>\n",
       "    <tr>\n",
       "      <th>7262</th>\n",
       "      <td>0.337500</td>\n",
       "      <td>0.654545</td>\n",
       "    </tr>\n",
       "    <tr>\n",
       "      <th>39076</th>\n",
       "      <td>0.256944</td>\n",
       "      <td>0.522222</td>\n",
       "    </tr>\n",
       "    <tr>\n",
       "      <th>23595</th>\n",
       "      <td>0.277222</td>\n",
       "      <td>0.604444</td>\n",
       "    </tr>\n",
       "  </tbody>\n",
       "</table>\n",
       "<p>10000 rows × 2 columns</p>\n",
       "</div>"
      ]
     },
     "execution_count": 49,
     "metadata": {},
     "output_type": "execute_result"
    }
   ],
   "execution_count": 49
  },
  {
   "metadata": {
    "ExecuteTime": {
     "end_time": "2025-09-16T20:25:00.961875Z",
     "start_time": "2025-09-16T20:25:00.958156Z"
    }
   },
   "cell_type": "code",
   "source": "result = pd.concat([train, df1], axis = 1)",
   "id": "e61135d1dcf8473",
   "outputs": [],
   "execution_count": 50
  },
  {
   "metadata": {
    "ExecuteTime": {
     "end_time": "2025-09-16T20:23:16.177715Z",
     "start_time": "2025-09-16T20:23:16.171409Z"
    }
   },
   "cell_type": "code",
   "source": "result.drop(['sentiment'], axis = 1, inplace = True)",
   "id": "e0978c0eab732705",
   "outputs": [],
   "execution_count": 41
  },
  {
   "metadata": {
    "ExecuteTime": {
     "end_time": "2025-09-16T20:23:17.125572Z",
     "start_time": "2025-09-16T20:23:17.118736Z"
    }
   },
   "cell_type": "code",
   "source": [
    "result.loc[result['polarity'] >= 0.3, 'Sentiment'] = \"Positive\"\n",
    "result.loc[result['polarity'] < 0.3, 'Sentiment'] = \"Negative\""
   ],
   "id": "e2c6230693e506a9",
   "outputs": [],
   "execution_count": 42
  },
  {
   "metadata": {
    "ExecuteTime": {
     "end_time": "2025-09-16T20:23:18.288737Z",
     "start_time": "2025-09-16T20:23:18.279703Z"
    }
   },
   "cell_type": "code",
   "source": "result",
   "id": "8d965162fa52d702",
   "outputs": [
    {
     "data": {
      "text/plain": [
       "                                                  review  label  polarity  \\\n",
       "22902  Ghost Town starts Kate Barrett Catherine Hickl...      0 -0.029810   \n",
       "18333  tolerance shlocky direction overwhelmed choice...      0  0.178571   \n",
       "12095  seen many horror flick time absurdly bad none ...      0 -0.068750   \n",
       "12413  Pixote Lei Mais Fraco deals perhaps greatest B...      1  0.141667   \n",
       "5476   chance watch Blind Spot Barcelona enjoyed trem...      1  0.373025   \n",
       "...                                                  ...    ...       ...   \n",
       "18017  may biased author novel Hungry Bachelors Club ...      1  0.252778   \n",
       "44899  one funniest shows ever seen really refreshing...      1  0.099306   \n",
       "7262   Im not Steve Carell fan however like movie Dan...      1  0.337500   \n",
       "39076  Jamie Foxx favorite comedian However feel sold...      0  0.256944   \n",
       "23595  sign expect film came spotted first probably l...      1  0.277222   \n",
       "\n",
       "       subjectivity Sentiment  \n",
       "22902      0.449158  Negative  \n",
       "18333      0.385714  Negative  \n",
       "12095      0.489583  Negative  \n",
       "12413      0.616667  Negative  \n",
       "5476       0.696293  Positive  \n",
       "...             ...       ...  \n",
       "18017      0.593519  Negative  \n",
       "44899      0.626736  Negative  \n",
       "7262       0.654545  Positive  \n",
       "39076      0.522222  Negative  \n",
       "23595      0.604444  Negative  \n",
       "\n",
       "[10000 rows x 5 columns]"
      ],
      "text/html": [
       "<div>\n",
       "<style scoped>\n",
       "    .dataframe tbody tr th:only-of-type {\n",
       "        vertical-align: middle;\n",
       "    }\n",
       "\n",
       "    .dataframe tbody tr th {\n",
       "        vertical-align: top;\n",
       "    }\n",
       "\n",
       "    .dataframe thead th {\n",
       "        text-align: right;\n",
       "    }\n",
       "</style>\n",
       "<table border=\"1\" class=\"dataframe\">\n",
       "  <thead>\n",
       "    <tr style=\"text-align: right;\">\n",
       "      <th></th>\n",
       "      <th>review</th>\n",
       "      <th>label</th>\n",
       "      <th>polarity</th>\n",
       "      <th>subjectivity</th>\n",
       "      <th>Sentiment</th>\n",
       "    </tr>\n",
       "  </thead>\n",
       "  <tbody>\n",
       "    <tr>\n",
       "      <th>22902</th>\n",
       "      <td>Ghost Town starts Kate Barrett Catherine Hickl...</td>\n",
       "      <td>0</td>\n",
       "      <td>-0.029810</td>\n",
       "      <td>0.449158</td>\n",
       "      <td>Negative</td>\n",
       "    </tr>\n",
       "    <tr>\n",
       "      <th>18333</th>\n",
       "      <td>tolerance shlocky direction overwhelmed choice...</td>\n",
       "      <td>0</td>\n",
       "      <td>0.178571</td>\n",
       "      <td>0.385714</td>\n",
       "      <td>Negative</td>\n",
       "    </tr>\n",
       "    <tr>\n",
       "      <th>12095</th>\n",
       "      <td>seen many horror flick time absurdly bad none ...</td>\n",
       "      <td>0</td>\n",
       "      <td>-0.068750</td>\n",
       "      <td>0.489583</td>\n",
       "      <td>Negative</td>\n",
       "    </tr>\n",
       "    <tr>\n",
       "      <th>12413</th>\n",
       "      <td>Pixote Lei Mais Fraco deals perhaps greatest B...</td>\n",
       "      <td>1</td>\n",
       "      <td>0.141667</td>\n",
       "      <td>0.616667</td>\n",
       "      <td>Negative</td>\n",
       "    </tr>\n",
       "    <tr>\n",
       "      <th>5476</th>\n",
       "      <td>chance watch Blind Spot Barcelona enjoyed trem...</td>\n",
       "      <td>1</td>\n",
       "      <td>0.373025</td>\n",
       "      <td>0.696293</td>\n",
       "      <td>Positive</td>\n",
       "    </tr>\n",
       "    <tr>\n",
       "      <th>...</th>\n",
       "      <td>...</td>\n",
       "      <td>...</td>\n",
       "      <td>...</td>\n",
       "      <td>...</td>\n",
       "      <td>...</td>\n",
       "    </tr>\n",
       "    <tr>\n",
       "      <th>18017</th>\n",
       "      <td>may biased author novel Hungry Bachelors Club ...</td>\n",
       "      <td>1</td>\n",
       "      <td>0.252778</td>\n",
       "      <td>0.593519</td>\n",
       "      <td>Negative</td>\n",
       "    </tr>\n",
       "    <tr>\n",
       "      <th>44899</th>\n",
       "      <td>one funniest shows ever seen really refreshing...</td>\n",
       "      <td>1</td>\n",
       "      <td>0.099306</td>\n",
       "      <td>0.626736</td>\n",
       "      <td>Negative</td>\n",
       "    </tr>\n",
       "    <tr>\n",
       "      <th>7262</th>\n",
       "      <td>Im not Steve Carell fan however like movie Dan...</td>\n",
       "      <td>1</td>\n",
       "      <td>0.337500</td>\n",
       "      <td>0.654545</td>\n",
       "      <td>Positive</td>\n",
       "    </tr>\n",
       "    <tr>\n",
       "      <th>39076</th>\n",
       "      <td>Jamie Foxx favorite comedian However feel sold...</td>\n",
       "      <td>0</td>\n",
       "      <td>0.256944</td>\n",
       "      <td>0.522222</td>\n",
       "      <td>Negative</td>\n",
       "    </tr>\n",
       "    <tr>\n",
       "      <th>23595</th>\n",
       "      <td>sign expect film came spotted first probably l...</td>\n",
       "      <td>1</td>\n",
       "      <td>0.277222</td>\n",
       "      <td>0.604444</td>\n",
       "      <td>Negative</td>\n",
       "    </tr>\n",
       "  </tbody>\n",
       "</table>\n",
       "<p>10000 rows × 5 columns</p>\n",
       "</div>"
      ]
     },
     "execution_count": 43,
     "metadata": {},
     "output_type": "execute_result"
    }
   ],
   "execution_count": 43
  },
  {
   "metadata": {
    "ExecuteTime": {
     "end_time": "2025-09-16T20:23:20.738369Z",
     "start_time": "2025-09-16T20:23:20.733544Z"
    }
   },
   "cell_type": "code",
   "source": [
    "result.loc[result['polarity'] == 1, 'Sentiment'] = 1\n",
    "result.loc[result['polarity'] == 0, 'Sentiment'] = 0"
   ],
   "id": "1a2b776fdb218331",
   "outputs": [],
   "execution_count": 44
  }
 ],
 "metadata": {
  "kernelspec": {
   "display_name": "Python 3",
   "language": "python",
   "name": "python3"
  },
  "language_info": {
   "codemirror_mode": {
    "name": "ipython",
    "version": 2
   },
   "file_extension": ".py",
   "mimetype": "text/x-python",
   "name": "python",
   "nbconvert_exporter": "python",
   "pygments_lexer": "ipython2",
   "version": "2.7.6"
  }
 },
 "nbformat": 4,
 "nbformat_minor": 5
}
